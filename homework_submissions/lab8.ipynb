{
 "cells": [
  {
   "cell_type": "markdown",
   "id": "497991d0-557d-42c4-a202-2a069446753d",
   "metadata": {},
   "source": [
    "## Course Assignment Instructions\n",
    "You should have Python (version 3.8 or later) and Jupyter Notebook installed to complete this assignment. You will write code in the empty cell/cells below the problem. While most of this will be a programming assignment, some questions will ask you to \"write a few sentences\" in markdown cells. \n",
    "\n",
    "Submission Instructions:\n",
    "\n",
    "Create a labs directory in your personal class repository (e.g., located in your home directory)\n",
    "Clone the class repository\n",
    "Copy this Jupyter notebook file (.ipynb) into your repo/labs directory\n",
    "Make your edits, commit changes, and push to your repository\n",
    "All submissions must be pushed before the due date to avoid late penalties. \n",
    "\n",
    "Labs are graded out of a 100 pts. Each day late is -10. For a max penalty of -50 after 5 days. From there you may submit the lab anytime before the semester ends for a max score of 50.  \n",
    "\n",
    "Lab 8 is due on 4/28/25"
   ]
  },
  {
   "cell_type": "markdown",
   "id": "ff97c825-1d37-446d-91e5-d231f2083b8c",
   "metadata": {},
   "source": [
    "## Model Selection with Three Splits: Select from M models\n",
    "\n",
    "We employ the diamonds dataset and specify M models nested from simple to more complex. We store the models as strings in a list (i.e. a hashset) ... Create log and polynomial transformations of the following features (carat, x, y, z, depth, and table). In order to use the formulas with logs we need to eliminate rows with zeros in those measurements."
   ]
  },
  {
   "cell_type": "code",
   "execution_count": 29,
   "id": "c295b6c2-ecf0-45fa-a75a-bfed934e99d3",
   "metadata": {},
   "outputs": [
    {
     "name": "stdout",
     "output_type": "stream",
     "text": [
      "Collecting numpy<2.0\n",
      "  Using cached numpy-1.26.4-cp312-cp312-win_amd64.whl.metadata (61 kB)\n",
      "Using cached numpy-1.26.4-cp312-cp312-win_amd64.whl (15.5 MB)\n",
      "Installing collected packages: numpy\n",
      "  Attempting uninstall: numpy\n",
      "    Found existing installation: numpy 2.2.5\n",
      "    Uninstalling numpy-2.2.5:\n",
      "      Successfully uninstalled numpy-2.2.5\n",
      "Successfully installed numpy-1.26.4\n",
      "Note: you may need to restart the kernel to use updated packages.\n"
     ]
    },
    {
     "name": "stderr",
     "output_type": "stream",
     "text": [
      "ERROR: pip's dependency resolver does not currently take into account all the packages that are installed. This behaviour is the source of the following dependency conflicts.\n",
      "skimpy 0.0.18 requires numpy>=2.0.2, but you have numpy 1.26.4 which is incompatible.\n",
      "streamlit 1.37.1 requires rich<14,>=10.14.0, but you have rich 14.0.0 which is incompatible.\n"
     ]
    }
   ],
   "source": [
    "pip install \"numpy<2.0\"\n"
   ]
  },
  {
   "cell_type": "code",
   "execution_count": 34,
   "id": "002cadf5-d614-4783-ac3c-56be66524094",
   "metadata": {},
   "outputs": [
    {
     "name": "stdout",
     "output_type": "stream",
     "text": [
      "Total number of model formulas: 17\n"
     ]
    }
   ],
   "source": [
    "import numpy as np\n",
    "import pandas as pd\n",
    "import statsmodels.formula.api as smf\n",
    "from plotnine.data import diamonds\n",
    "\n",
    "#Load the diamonds dataset and create a copy\n",
    "diamonds = diamonds.copy()\n",
    "\n",
    "#Filter to remove rows with non-positive values in the specified columns\n",
    "diamonds_cleaned = diamonds.loc[\n",
    "    (diamonds[\"carat\"] > 0) &\n",
    "    (diamonds[\"x\"] > 0) &\n",
    "    (diamonds[\"y\"] > 0) &\n",
    "    (diamonds[\"z\"] > 0) &\n",
    "    (diamonds[\"depth\"] > 0) &\n",
    "    (diamonds[\"table\"] > 0)\n",
    "   ].copy()\n",
    "\n",
    "# Add polynomial (squared) features\n",
    "diamonds_cleaned['carat_sq'] = diamonds_cleaned['carat'] ** 2\n",
    "diamonds_cleaned['x_sq'] = diamonds_cleaned['x'] ** 2\n",
    "diamonds_cleaned['y_sq'] = diamonds_cleaned['y'] ** 2\n",
    "diamonds_cleaned['z_sq'] = diamonds_cleaned['z'] ** 2\n",
    "diamonds_cleaned['depth_sq'] = diamonds_cleaned['depth'] ** 2\n",
    "diamonds_cleaned['table_sq'] = diamonds_cleaned['table'] ** 2\n",
    "\n",
    "#Add log-transformed features (add small constant to avoid log(0))\n",
    "epsilon = 1e-6\n",
    "diamonds_cleaned['log_carat'] = np.log(diamonds_cleaned['carat'] + epsilon)\n",
    "diamonds_cleaned['log_x'] = np.log(diamonds_cleaned['x'] + epsilon)\n",
    "diamonds_cleaned['log_y'] = np.log(diamonds_cleaned['y'] + epsilon)\n",
    "diamonds_cleaned['log_z'] = np.log(diamonds_cleaned['z'] + epsilon)\n",
    "diamonds_cleaned['log_depth'] = np.log(diamonds_cleaned['depth'] + epsilon)\n",
    "diamonds_cleaned['log_table'] = np.log(diamonds_cleaned['table'] + epsilon)\n",
    "#Prefix with 'price ~' for statsmodels compatibility\n",
    "\n",
    "# Model formulas (now referencing the precomputed columns)\n",
    "model_formulas = [\n",
    "    \"carat\",\n",
    "    \"carat + cut\",\n",
    "    \"carat + cut + color\",\n",
    "    \"carat + cut + color + clarity\",\n",
    "    \"carat + cut + color + clarity + x + y + z\",\n",
    "    \"carat + cut + color + clarity + x + y + z + depth\",\n",
    "    \"carat + cut + color + clarity + x + y + z + depth + table\",\n",
    "    \"carat * (cut + color + clarity) + x + y + z + depth + table\",\n",
    "    \"(carat + x + y + z) * (cut + color + clarity) + depth + table\",\n",
    "    \"(carat + x + y + z + depth + table) * (cut + color + clarity)\",\n",
    "    \"(carat_sq + x + y + z + depth + table) * (cut + color + clarity)\",\n",
    "    \"(carat_sq + x_sq + y_sq + z_sq + depth + table) * (cut + color + clarity)\",\n",
    "    \"(carat_sq + x_sq + y_sq + z_sq + depth_sq + table_sq) * (cut + color + clarity)\",\n",
    "    \"(carat_sq + x_sq + y_sq + z_sq + depth_sq + table_sq + log_carat + log_x + log_y + log_z) * (cut + color + clarity)\",\n",
    "    \"(carat_sq + x_sq + y_sq + z_sq + depth_sq + table_sq + log_carat + log_x + log_y + log_z + log_depth) * (cut + color + clarity)\",\n",
    "    \"(carat_sq + x_sq + y_sq + z_sq + depth_sq + table_sq + log_carat + log_x + log_y + log_z + log_depth + log_table) * (cut + color + clarity)\",\n",
    "    \"(carat_sq + x_sq + y_sq + z_sq + depth_sq + table_sq + log_carat + log_x + log_y + log_z + log_depth + log_table) * (cut + color + clarity + carat_sq + x_sq + y_sq + z_sq + depth_sq + table_sq + log_carat + log_x + log_y + log_z + log_depth + log_table)\"\n",
    "]\n",
    "\n",
    "# Prefix with 'price ~' for statsmodels compatibility\n",
    "model_formulas = [f\"price ~ {f}\" for f in model_formulas]\n",
    "\n",
    "#Number of formulas\n",
    "M = len(model_formulas)\n",
    "print(f\"Total number of model formulas: {M}\")\n",
    "\n"
   ]
  },
  {
   "cell_type": "code",
   "execution_count": 35,
   "id": "beb070d8-da86-47e3-a58a-4ab4e2a12673",
   "metadata": {},
   "outputs": [
    {
     "name": "stdout",
     "output_type": "stream",
     "text": [
      "1: price ~ carat\n",
      "2: price ~ carat + cut\n",
      "3: price ~ carat + cut + color\n",
      "4: price ~ carat + cut + color + clarity\n",
      "5: price ~ carat + cut + color + clarity + x + y + z\n",
      "6: price ~ carat + cut + color + clarity + x + y + z + depth\n",
      "7: price ~ carat + cut + color + clarity + x + y + z + depth + table\n",
      "8: price ~ carat * (cut + color + clarity) + x + y + z + depth + table\n",
      "9: price ~ (carat + x + y + z) * (cut + color + clarity) + depth + table\n",
      "10: price ~ (carat + x + y + z + depth + table) * (cut + color + clarity)\n",
      "11: price ~ (carat_sq + x + y + z + depth + table) * (cut + color + clarity)\n",
      "12: price ~ (carat_sq + x_sq + y_sq + z_sq + depth + table) * (cut + color + clarity)\n",
      "13: price ~ (carat_sq + x_sq + y_sq + z_sq + depth_sq + table_sq) * (cut + color + clarity)\n",
      "14: price ~ (carat_sq + x_sq + y_sq + z_sq + depth_sq + table_sq + log_carat + log_x + log_y + log_z) * (cut + color + clarity)\n",
      "15: price ~ (carat_sq + x_sq + y_sq + z_sq + depth_sq + table_sq + log_carat + log_x + log_y + log_z + log_depth) * (cut + color + clarity)\n",
      "16: price ~ (carat_sq + x_sq + y_sq + z_sq + depth_sq + table_sq + log_carat + log_x + log_y + log_z + log_depth + log_table) * (cut + color + clarity)\n",
      "17: price ~ (carat_sq + x_sq + y_sq + z_sq + depth_sq + table_sq + log_carat + log_x + log_y + log_z + log_depth + log_table) * (cut + color + clarity + carat_sq + x_sq + y_sq + z_sq + depth_sq + table_sq + log_carat + log_x + log_y + log_z + log_depth + log_table)\n",
      "Total formula: 17\n",
      "1: price ~ carat\n",
      "2: price ~ carat + cut\n",
      "3: price ~ carat + cut + color\n",
      "4: price ~ carat + cut + color + clarity\n",
      "5: price ~ carat + cut + color + clarity + x + y + z\n",
      "6: price ~ carat + cut + color + clarity + x + y + z + depth\n",
      "7: price ~ carat + cut + color + clarity + x + y + z + depth + table\n",
      "8: price ~ carat * (cut + color + clarity) + x + y + z + depth + table\n",
      "9: price ~ (carat + x + y + z) * (cut + color + clarity) + depth + table\n",
      "10: price ~ (carat + x + y + z + depth + table) * (cut + color + clarity)\n",
      "11: price ~ (carat_sq + x + y + z + depth + table) * (cut + color + clarity)\n",
      "12: price ~ (carat_sq + x_sq + y_sq + z_sq + depth + table) * (cut + color + clarity)\n",
      "13: price ~ (carat_sq + x_sq + y_sq + z_sq + depth_sq + table_sq) * (cut + color + clarity)\n",
      "14: price ~ (carat_sq + x_sq + y_sq + z_sq + depth_sq + table_sq + log_carat + log_x + log_y + log_z) * (cut + color + clarity)\n",
      "15: price ~ (carat_sq + x_sq + y_sq + z_sq + depth_sq + table_sq + log_carat + log_x + log_y + log_z + log_depth) * (cut + color + clarity)\n",
      "16: price ~ (carat_sq + x_sq + y_sq + z_sq + depth_sq + table_sq + log_carat + log_x + log_y + log_z + log_depth + log_table) * (cut + color + clarity)\n",
      "17: price ~ (carat_sq + x_sq + y_sq + z_sq + depth_sq + table_sq + log_carat + log_x + log_y + log_z + log_depth + log_table) * (cut + color + clarity + carat_sq + x_sq + y_sq + z_sq + depth_sq + table_sq + log_carat + log_x + log_y + log_z + log_depth + log_table)\n"
     ]
    }
   ],
   "source": [
    "#Preview\n",
    "for i, formula in enumerate(model_formulas):\n",
    "    print(f\"{i+1}: {formula}\")\n",
    "df = diamonds.copy()\n",
    "\n",
    "filter_column = [\"carat\", \"x\", \"y\", \"z\", \"depth\", \"table\"]\n",
    "mask = (df[filter_column] > 0).all(axis=1)\n",
    "df = df.loc[mask].copy()\n",
    "\n",
    "for col in filter_column:\n",
    "    df[f\"{col}_sq\"] = df[col]**2\n",
    "\n",
    "for col in filter_column:\n",
    "    df[f\"{col}_log\"] = np.log(df[col]+epsilon)\n",
    "\n",
    "print(f\"Total formula: {len(model_formulas)}\")\n",
    "\n",
    "#Preview\n",
    "for i, formula in enumerate(model_formulas, 1):\n",
    "    print(f\"{i}: {formula}\")"
   ]
  },
  {
   "cell_type": "markdown",
   "id": "07544540-3e75-4b8e-a0f6-1262cd8a447e",
   "metadata": {},
   "source": [
    "Split the data into train, select and test. Each set should have 1/3 of the total data."
   ]
  },
  {
   "cell_type": "code",
   "execution_count": 37,
   "id": "5e679024-6c61-4648-942f-125e92da2d72",
   "metadata": {},
   "outputs": [
    {
     "name": "stdout",
     "output_type": "stream",
     "text": [
      "Train size:  17973\n",
      "Select size: 17973\n",
      "Test size:   17974\n"
     ]
    }
   ],
   "source": [
    "import pandas as pd\n",
    "from sklearn.model_selection import train_test_split\n",
    "\n",
    "# First split: ~1/3 train, ~2/3 temp\n",
    "diamonds_train, temp = train_test_split(diamonds_cleaned, test_size=2/3, random_state=1)\n",
    "\n",
    "# Second split: split temp (~2/3 of original) into ~1/3 (select), ~1/3 (test)\n",
    "diamonds_select, diamonds_test = train_test_split(temp, test_size=0.5, random_state=1)\n",
    "\n",
    "# Print sizes\n",
    "print(f\"Train size:  {len(diamonds_train)}\")\n",
    "print(f\"Select size: {len(diamonds_select)}\")\n",
    "print(f\"Test size:   {len(diamonds_test)}\")\n"
   ]
  },
  {
   "cell_type": "markdown",
   "id": "5a17ca49-51d9-4c0d-8498-638709375336",
   "metadata": {},
   "source": [
    "Find the oosRMSE on the select set for each model. Save the number of df in each model while you're doing this as we'll need it for later"
   ]
  },
  {
   "cell_type": "code",
   "execution_count": 38,
   "id": "55b80980-eef8-4d71-9286-4ae447333408",
   "metadata": {},
   "outputs": [
    {
     "name": "stdout",
     "output_type": "stream",
     "text": [
      "    model_index                                            formula  \\\n",
      "0             1                                      price ~ carat   \n",
      "1             2                                price ~ carat + cut   \n",
      "2             3                        price ~ carat + cut + color   \n",
      "3             4              price ~ carat + cut + color + clarity   \n",
      "4             5  price ~ carat + cut + color + clarity + x + y + z   \n",
      "5             6  price ~ carat + cut + color + clarity + x + y ...   \n",
      "6             7  price ~ carat + cut + color + clarity + x + y ...   \n",
      "7             8  price ~ carat * (cut + color + clarity) + x + ...   \n",
      "8             9  price ~ (carat + x + y + z) * (cut + color + c...   \n",
      "9            10  price ~ (carat + x + y + z + depth + table) * ...   \n",
      "10           11  price ~ (carat_sq + x + y + z + depth + table)...   \n",
      "11           12  price ~ (carat_sq + x_sq + y_sq + z_sq + depth...   \n",
      "12           13  price ~ (carat_sq + x_sq + y_sq + z_sq + depth...   \n",
      "13           14  price ~ (carat_sq + x_sq + y_sq + z_sq + depth...   \n",
      "14           15  price ~ (carat_sq + x_sq + y_sq + z_sq + depth...   \n",
      "15           16  price ~ (carat_sq + x_sq + y_sq + z_sq + depth...   \n",
      "16           17  price ~ (carat_sq + x_sq + y_sq + z_sq + depth...   \n",
      "\n",
      "       oosRMSE   df  \n",
      "0     1.174444    2  \n",
      "1     0.379739    6  \n",
      "2     0.280339   12  \n",
      "3     7.205514   19  \n",
      "4     0.997104   22  \n",
      "5     1.512921   23  \n",
      "6     1.198682   24  \n",
      "7     0.916606   41  \n",
      "8     0.570894   92  \n",
      "9     5.629407  126  \n",
      "10    3.928197  126  \n",
      "11    1.534152  126  \n",
      "12    1.008178  126  \n",
      "13   45.841663  198  \n",
      "14   47.628309  216  \n",
      "15   47.304560  234  \n",
      "16  186.293938  300  \n"
     ]
    }
   ],
   "source": [
    "results_list = []\n",
    "\n",
    "for i, formula in enumerate(model_formulas, start=1):\n",
    "    #Fit on train\n",
    "    model = smf.ols(formula = formula, data = diamonds_train).fit()\n",
    "    #Predict on select\n",
    "    preds = model.predict(diamonds_select)\n",
    "    \n",
    "    #Compute oosRMSE\n",
    "    actual = diamonds_select['price']\n",
    "    rmse = np.sqrt(np.mean(preds - actual)**2)\n",
    "    \n",
    "    #Degrees of freedom\n",
    "    #number of parameters\n",
    "    df_params = len(model.params)\n",
    "\n",
    "    #Store results\n",
    "    results_list.append({'model_index': i , 'formula' : formula, 'oosRMSE' : rmse, 'df' : df_params})\n",
    "\n",
    "\n",
    "results_df = pd.DataFrame(results_list)\n",
    "print(results_df)"
   ]
  },
  {
   "cell_type": "markdown",
   "id": "26f25184-dbfe-4da0-b3a8-c0cb1a7a166b",
   "metadata": {},
   "source": [
    "Plot the oosRMSE by model complexity (df in model)"
   ]
  },
  {
   "cell_type": "code",
   "execution_count": 40,
   "id": "8ae54460-765f-476b-abff-b8810af8d945",
   "metadata": {},
   "outputs": [
    {
     "data": {
      "image/png": "[encoded data removed]"
     },
     "metadata": {
      "image/png": {
       "height": 480,
       "width": 640
      }
     },
     "output_type": "display_data"
    }
   ],
   "source": [
    "from plotnine import ggplot, aes, geom_point, geom_line, theme_bw, labs\n",
    "\n",
    "plot = (\n",
    "    ggplot(results_df, aes(x='df', y='oosRMSE')) +\n",
    "    geom_point() +\n",
    "    geom_line() +\n",
    "    labs(\n",
    "        title=\"Out-of-Sample RMSE by Model Complexity\",\n",
    "        x=\"Degrees of Freedom (df)\",\n",
    "        y=\"Out-of-Sample RMSE\"\n",
    "    ) +\n",
    "    theme_bw()\n",
    ")\n",
    "\n",
    "plot\n"
   ]
  },
  {
   "cell_type": "markdown",
   "id": "06922956-adf0-4844-95fa-1c169b712c0a",
   "metadata": {},
   "source": [
    "Select the best model by oosRMSE and find its oosRMSE on the test set."
   ]
  },
  {
   "cell_type": "code",
   "execution_count": 41,
   "id": "65f34647-cb9d-44f3-a03e-ace40599214d",
   "metadata": {},
   "outputs": [
    {
     "name": "stdout",
     "output_type": "stream",
     "text": [
      "Best model row:\n",
      " model_index                              3\n",
      "formula        price ~ carat + cut + color\n",
      "oosRMSE                           0.280339\n",
      "df                                      12\n",
      "Name: 2, dtype: object\n",
      "Best model formula: price ~ carat + cut + color\n",
      "oosRMSE on the test set: 11.927269661845308\n"
     ]
    }
   ],
   "source": [
    "#Identify best model by oosRMSE\n",
    "best_row = results_df.loc[results_df['oosRMSE'].idxmin()]\n",
    "best_formula = best_row['formula']\n",
    "\n",
    "print(\"Best model row:\\n\", best_row )\n",
    "print(\"Best model formula:\", best_formula)\n",
    "\n",
    "#Fit the best model on train\n",
    "best_model = smf.ols(formula=best_formula, data=diamonds_train).fit()\n",
    "\n",
    "#Evaluate RMSE on the test set\n",
    "preds_test = best_model.predict(diamonds_test)\n",
    "test_actual = diamonds_test['price']\n",
    "test_oosRMSE = np.sqrt(np.mean(preds_test - test_actual)**2 )\n",
    "\n",
    "print(\"oosRMSE on the test set:\", test_oosRMSE)"
   ]
  },
  {
   "cell_type": "markdown",
   "id": "ef4d3246-7432-4cbe-9596-f777d942f27a",
   "metadata": {},
   "source": [
    "Did we overfit the select set? Discuss why or why not."
   ]
  },
  {
   "cell_type": "markdown",
   "id": "a3991d12-6788-4205-b474-12215acb3c7f",
   "metadata": {},
   "source": [
    "Yes, we probably overfit the select set. The model price ~ carat + cut + color had the lowest error on the select set, with an RMSE of only 0.28. But when we tested it on new data, the error jumped to 11.93. This big difference means the model may have learned patterns that only worked well on the select set but didn’t work on other data. In other words, it fit the select set too closely and didn’t generalize well to new data."
   ]
  },
  {
   "cell_type": "markdown",
   "id": "0e34cbe1-1eab-456d-b65d-c562d1044a90",
   "metadata": {},
   "source": [
    "Create the final model object `g_final`."
   ]
  },
  {
   "cell_type": "code",
   "execution_count": 43,
   "id": "2ec4be25-bcf2-4e19-bbd0-40922fd4edbf",
   "metadata": {},
   "outputs": [
    {
     "name": "stdout",
     "output_type": "stream",
     "text": [
      "Best formula: price ~ carat + cut + color\n",
      "Final model trained on train+select data.\n",
      "oosRMSE on Test Set: 1430.838109425018\n"
     ]
    }
   ],
   "source": [
    "# Identify best formula\n",
    "best_row = results_df.loc[results_df['oosRMSE'].idxmin()]\n",
    "best_formula = best_row['formula']\n",
    "print(\"Best formula:\", best_formula)\n",
    "\n",
    "# Combine train and select data\n",
    "diamonds_train_select = pd.concat([diamonds_train, diamonds_select], ignore_index=True)\n",
    "\n",
    "# Fit final model on train + select\n",
    "g_final = smf.ols(formula=best_formula, data=diamonds_train_select).fit()\n",
    "\n",
    "# Evaluate on test\n",
    "test_preds = g_final.predict(diamonds_test)\n",
    "test_actual = diamonds_test[\"price\"]\n",
    "test_oosRMSE = np.sqrt(np.mean((test_preds - test_actual) ** 2))\n",
    "\n",
    "print(\"Final model trained on train+select data.\")\n",
    "print(\"oosRMSE on Test Set:\", test_oosRMSE)\n"
   ]
  },
  {
   "cell_type": "markdown",
   "id": "ae476a12-0e4b-42dc-a9e5-f51a0d281b64",
   "metadata": {},
   "source": [
    "## Model Selection with Three Splits: Hyperparameter selection\n",
    "\n",
    "We will use an algorithm that I historically taught in 324W but now moved to 343 so I can teach it more deeply using the Bayesian topics from 341. The regression algorithm is called \"ridge\" and it involves solving for the slope vector via:\n",
    "\n",
    "b_ridge := (X^T X + lambda I_(p+1))^-1 X^T y\n",
    "\n",
    "Note how if lambda = 0, this is the same algorithm as OLS. If lambda becomes very large then b_ridge is pushed towards all zeroes. So ridge is good at weighting only features that matter.\n",
    "\n",
    "However, lambda is a hyperparameter >= 0 that needs to be selected.\n",
    "\n",
    "We will work with the boston housing dataset except we will add 250 garbage features consisting of iid N(0,1) realizations. We will also standardize the columns so they're all xbar = 0 and s_x = 1. This is shown to be important in 343."
   ]
  },
  {
   "cell_type": "code",
   "execution_count": 44,
   "id": "36571395-7310-4fda-bd16-eb73a8abc38e",
   "metadata": {},
   "outputs": [
    {
     "name": "stdout",
     "output_type": "stream",
     "text": [
      "df_X_final shape: (506, 264)\n",
      "First 5 rows:\n",
      "    Intercept      crim        zn     indus      chas       nox        rm  \\\n",
      "0        1.0 -0.419367  0.284548 -1.286636 -0.272329 -0.144075  0.413263   \n",
      "1        1.0 -0.416927 -0.487240 -0.592794 -0.272329 -0.739530  0.194082   \n",
      "2        1.0 -0.416929 -0.487240 -0.592794 -0.272329 -0.739530  1.281446   \n",
      "3        1.0 -0.416338 -0.487240 -1.305586 -0.272329 -0.834458  1.015298   \n",
      "4        1.0 -0.412074 -0.487240 -1.305586 -0.272329 -0.834458  1.227362   \n",
      "\n",
      "        age       dis       rad  ...  garb_241  garb_242  garb_243  garb_244  \\\n",
      "0 -0.119895  0.140075 -0.981871  ... -0.479525 -0.394984 -0.001421 -1.373741   \n",
      "1  0.366803  0.556609 -0.867024  ... -0.073263  0.590498 -0.395240  0.409827   \n",
      "2 -0.265549  0.556609 -0.867024  ...  0.110388  0.987957 -1.484408 -0.617136   \n",
      "3 -0.809088  1.076671 -0.752178  ...  0.201711 -0.195166  0.368116  0.666806   \n",
      "4 -0.510674  1.076671 -0.752178  ...  0.251128 -0.831994  0.685316 -0.746165   \n",
      "\n",
      "   garb_245  garb_246  garb_247  garb_248  garb_249  garb_250  \n",
      "0 -0.845360  0.628290  0.616134 -0.347348  1.757840 -1.324878  \n",
      "1 -1.557706 -0.854806  0.526492 -2.119620 -1.108260 -0.059656  \n",
      "2 -0.128922 -0.756063  0.528775  0.094430  0.295183 -0.754636  \n",
      "3  1.290670 -0.152212 -2.279148  0.021693  0.327205 -0.225899  \n",
      "4  1.867336  0.720143 -1.270903  1.828019 -0.243534 -0.756857  \n",
      "\n",
      "[5 rows x 264 columns]\n"
     ]
    }
   ],
   "source": [
    "import statsmodels.api as sm\n",
    "import pandas as pd\n",
    "import numpy as np  # This import was missing\n",
    "\n",
    "# Read the Boston Housing CSV (exported from R)\n",
    "df = pd.read_csv('boston_housing_data.csv')\n",
    "\n",
    "# y is the response\n",
    "y = df['medv'].values\n",
    "\n",
    "# X_data: mimic model.matrix(medv ~ ., MASS::Boston)\n",
    "# Drop 'medv' and add an intercept column\n",
    "X_data = df.drop(columns='medv')\n",
    "X_data_with_const = sm.add_constant(X_data)  # Fixed here\n",
    "\n",
    "# Add 250 garbage features\n",
    "np.random.seed(1)\n",
    "n = X_data_with_const.shape[0]\n",
    "p_garbage = 250\n",
    "garbage_matrix = np.random.randn(n, p_garbage)\n",
    "\n",
    "# Combine the real predictors + garbage into a single DataFrame\n",
    "df_X = pd.concat([pd.DataFrame(X_data_with_const), pd.DataFrame(garbage_matrix)], axis=1)\n",
    "\n",
    "# Standardize each column: (x_j - mean_j)/sd_j, matching R's default sample sd (ddof=1)\n",
    "means = df_X.mean(axis=0)\n",
    "stds = df_X.std(axis=0, ddof=1)\n",
    "df_X_std = (df_X - means) / stds\n",
    "\n",
    "# The first column is our intercept, but standardizing sets it to 0, so reset it to 1\n",
    "df_X_std.iloc[:, 0] = 1.0\n",
    "\n",
    "# Name the columns\n",
    "orig_columns = [\"Intercept\"] + list(X_data.columns)\n",
    "garb_columns = [f\"garb_{i+1}\" for i in range(p_garbage)]\n",
    "df_X_std.columns = orig_columns + garb_columns\n",
    "\n",
    "# Final standardized feature set\n",
    "df_X_final = df_X_std.copy()\n",
    "\n",
    "print(\"df_X_final shape:\", df_X_final.shape)\n",
    "print(\"First 5 rows:\\n\", df_X_final.head())  # Fixed missing () on head\n"
   ]
  },
  {
   "cell_type": "markdown",
   "id": "4e271344-b4c7-4b16-b8bb-25ddfe9d9d4c",
   "metadata": {},
   "source": [
    "Now we split it into 300 train, 100 select and 106 test. "
   ]
  },
  {
   "cell_type": "code",
   "execution_count": 45,
   "id": "589d0d33-db95-4db8-8ee3-c3c8c26fc310",
   "metadata": {},
   "outputs": [
    {
     "name": "stdout",
     "output_type": "stream",
     "text": [
      "Train set X: (300, 264) y: (300,)\n",
      "Select set X: (100, 264) y: (100,)\n",
      "Test set X:   (106, 264) y: (106,)\n"
     ]
    }
   ],
   "source": [
    "from sklearn.model_selection import train_test_split\n",
    "\n",
    "# First split: 300 for train, remainder (206) for temp\n",
    "X_train, X_temp, y_train, y_temp = train_test_split(\n",
    "    df_X_final,\n",
    "    y,\n",
    "    test_size = 206,\n",
    "    random_state = 1\n",
    "\n",
    ")\n",
    "\n",
    "#From the remaining 206, split out 100 for select and 106 for test\n",
    "X_select, X_test, y_select, y_test = train_test_split(\n",
    "    X_temp,\n",
    "    y_temp,\n",
    "    test_size = 106,\n",
    "    random_state = 1\n",
    "   \n",
    ")\n",
    "\n",
    "#Print shapes to verify (should be 300 / 100 / 106)\n",
    "print(\"Train set X:\", X_train.shape, \"y:\", y_train.shape)\n",
    "print(\"Select set X:\", X_select.shape, \"y:\",y_select.shape)\n",
    "print(\"Test set X:  \", X_test.shape,  \"y:\", y_test.shape)"
   ]
  },
  {
   "cell_type": "markdown",
   "id": "9a47f5fe-6c70-4365-8a5e-8b978e6f7548",
   "metadata": {},
   "source": [
    "We now create a grid of M = 200 models indexed by lambda. The lowest lambda should be zero (which is OLS) and the highest lambda can be 100."
   ]
  },
  {
   "cell_type": "code",
   "execution_count": 46,
   "id": "29593ef3-a3c6-43c9-82d4-27e1ffb3a150",
   "metadata": {},
   "outputs": [],
   "source": [
    "M = 200\n",
    "lambda_grid = np.linspace(0, 100, num=M)"
   ]
  },
  {
   "cell_type": "markdown",
   "id": "fdc0c65b-55a7-4a16-acd4-094e20d73aea",
   "metadata": {},
   "source": [
    "Now find the oosRMSE on the select set on all models each with their own lambda value."
   ]
  },
  {
   "cell_type": "code",
   "execution_count": 47,
   "id": "6c768248-a24a-4343-801e-dce9fe4fcac0",
   "metadata": {},
   "outputs": [
    {
     "name": "stdout",
     "output_type": "stream",
     "text": [
      "[13.53734094 12.44441538 11.76392353 11.30554565 10.98137582 10.74410092\n",
      " 10.56595405 10.42963657 10.32386718 10.24101089 10.17573733 10.12422462\n",
      " 10.08366818 10.05196758 10.02752098 10.00908688  9.995689    9.98654941\n",
      "  9.9810409   9.97865219  9.97896241  9.98162195  9.98633795  9.99286321\n",
      " 10.00098758 10.01053128 10.02133949 10.03327821 10.0462308  10.06009525\n",
      " 10.07478194 10.09021179 10.10631473 10.12302846 10.14029738 10.1580717\n",
      " 10.1763067  10.19496209 10.21400147 10.23339187 10.25310335 10.27310866\n",
      " 10.29338294 10.31390345 10.33464937 10.35560158 10.37674252 10.39805598\n",
      " 10.41952704 10.44114188 10.46288774 10.48475277 10.50672598 10.52879716\n",
      " 10.55095682 10.5731961  10.59550674 10.61788106 10.64031184 10.66279236\n",
      " 10.68531631 10.70787778 10.73047125 10.75309151 10.77573368 10.79839317\n",
      " 10.82106567 10.84374712 10.86643371 10.88912182 10.91180806 10.93448925\n",
      " 10.95716234 10.97982451 11.00247305 11.02510543 11.04771925 11.07031223\n",
      " 11.09288224 11.11542725 11.13794533 11.16043468 11.18289358 11.20532041\n",
      " 11.22771363 11.25007178 11.2723935  11.29467749 11.3169225  11.33912739\n",
      " 11.36129104 11.38341242 11.40549054 11.42752447 11.44951332 11.47145628\n",
      " 11.49335255 11.51520139 11.53700211 11.55875404 11.58045656 11.60210909\n",
      " 11.62371107 11.64526199 11.66676136 11.68820873 11.70960366 11.73094575\n",
      " 11.75223463 11.77346995 11.79465138 11.81577861 11.83685137 11.85786938\n",
      " 11.87883241 11.89974024 11.92059266 11.94138948 11.96213052 11.98281564\n",
      " 12.00344469 12.02401754 12.04453409 12.06499423 12.08539788 12.10574496\n",
      " 12.12603541 12.14626918 12.16644622 12.18656651 12.20663003 12.22663676\n",
      " 12.2465867  12.26647986 12.28631624 12.30609589 12.32581881 12.34548506\n",
      " 12.36509467 12.38464769 12.40414418 12.42358421 12.44296785 12.46229516\n",
      " 12.48156622 12.50078113 12.51993997 12.53904284 12.55808983 12.57708105\n",
      " 12.5960166  12.6148966  12.63372116 12.65249041 12.67120445 12.68986342\n",
      " 12.70846745 12.72701666 12.74551119 12.76395118 12.78233676 12.80066809\n",
      " 12.81894529 12.83716853 12.85533794 12.87345367 12.89151589 12.90952474\n",
      " 12.92748038 12.94538297 12.96323266 12.98102962 12.998774   13.01646598\n",
      " 13.03410572 13.05169337 13.06922911 13.0867131  13.10414552 13.12152653\n",
      " 13.13885631 13.15613501 13.17336283 13.19053992 13.20766646 13.22474262\n",
      " 13.24176858 13.25874451 13.27567059 13.29254699 13.30937389 13.32615146\n",
      " 13.34287988 13.35955933 13.37618998 13.392772   13.40930558 13.4257909\n",
      " 13.44222812 13.45861743]\n"
     ]
    }
   ],
   "source": [
    "from sklearn.linear_model import Ridge\n",
    "\n",
    "M = len(lambda_grid)\n",
    "oosRMSE_list = []\n",
    "\n",
    "for lam in lambda_grid:\n",
    "    #Fit a Ridge regression model with alpha=lamba\n",
    "    #Note:alpha here corresponds to lambda in R\n",
    "    #Note: If your X_train does NOT have an intercept column, set fit_intercept=True, else fit_intercept=False\n",
    "    ridge_model = Ridge(alpha = lam, fit_intercept = False)\n",
    "    ridge_model.fit(X_train, y_train)\n",
    "    \n",
    "    #Predict on the select set\n",
    "    preds = ridge_model.predict(X_select)\n",
    "    \n",
    "    #Compute out-of-sample RMSE\n",
    "    mse = np.mean((preds- y_select)**2)\n",
    "    rmse = np.sqrt(mse)\n",
    "    oosRMSE_list.append(rmse)\n",
    "    \n",
    "\n",
    "oosRMSE_array = np.array(oosRMSE_list)\n",
    "print(oosRMSE_array)"
   ]
  },
  {
   "cell_type": "markdown",
   "id": "5f611532-7c0e-4fae-8920-e2e95ca1b8bb",
   "metadata": {},
   "source": [
    "Plot the oosRMSE by the value of lambda."
   ]
  },
  {
   "cell_type": "code",
   "execution_count": 48,
   "id": "4c88e063-7ffa-4b6b-b208-5c6779d40291",
   "metadata": {},
   "outputs": [
    {
     "data": {
      "image/png": "[encoded data removed]"
     },
     "metadata": {
      "image/png": {
       "height": 480,
       "width": 640
      }
     },
     "output_type": "display_data"
    }
   ],
   "source": [
    "import pandas as pd\n",
    "from plotnine import ggplot, aes, geom_point, geom_line, labs, theme_bw\n",
    "\n",
    "results_df = pd.DataFrame({\n",
    "    'lambda': lambda_grid,\n",
    "    'oosRMSE': oosRMSE_array\n",
    "})\n",
    "\n",
    "plot = (ggplot(results_df, aes(x='lambda', y='oosRMSE'))\n",
    "        + geom_point()\n",
    "        + geom_line()\n",
    "        + labs(title=\"Out-of-sample RMSE vs. Lambda\", x=\"Lambda\", y=\"OOS RMSE\")\n",
    "        + theme_bw())\n",
    "plot"
   ]
  },
  {
   "cell_type": "markdown",
   "id": "3d85f558-a490-4687-9477-8aba992a5bb2",
   "metadata": {},
   "source": [
    "Select the model with the best oosRMSE on the select set and find its oosRMSE on the test set."
   ]
  },
  {
   "cell_type": "code",
   "execution_count": 49,
   "id": "5f217db6-ba07-48c0-bc17-db064acbe21f",
   "metadata": {},
   "outputs": [
    {
     "name": "stdout",
     "output_type": "stream",
     "text": [
      "Best lambda: 9.547738693467336\n",
      "Test-set RMSE: 9.347581068970875\n"
     ]
    }
   ],
   "source": [
    "#Identify the best lambda (lowest oosRMSE on the select set)\n",
    "best_idx = np.argmin(oosRMSE_array)\n",
    "best_lambda = lambda_grid[best_idx]\n",
    "print(\"Best lambda:\", best_lambda)\n",
    "\n",
    "#Refit on train set with that lambda\n",
    "ridge_best = Ridge(alpha = best_lambda)\n",
    "ridge_best.fit(X_train, y_train)\n",
    "\n",
    "#Evaluate on the test set\n",
    "preds_test = ridge_best.predict(X_test)\n",
    "test_oosRMSE = np.sqrt(np.mean((preds_test - y_test)**2))\n",
    "print(\"Test-set RMSE:\", test_oosRMSE)"
   ]
  },
  {
   "cell_type": "markdown",
   "id": "3b4ca216-0f5c-4b03-aa9e-17545372d36c",
   "metadata": {},
   "source": [
    "Create the final model object `g_final`."
   ]
  },
  {
   "cell_type": "code",
   "execution_count": 50,
   "id": "fa2539dd-8fc0-41c6-8b01-34a3484937d2",
   "metadata": {},
   "outputs": [
    {
     "name": "stdout",
     "output_type": "stream",
     "text": [
      "Final model coefficients:\n",
      "Intercept    21.888387\n",
      "crim         -0.440957\n",
      "zn            1.659766\n",
      "indus         0.482797\n",
      "chas          0.598480\n",
      "               ...    \n",
      "garb_246     -0.020711\n",
      "garb_247     -0.639872\n",
      "garb_248     -0.118778\n",
      "garb_249     -0.075556\n",
      "garb_250     -0.154029\n",
      "Length: 264, dtype: float64\n",
      "Test-set RMSE: 8.517922621131955\n"
     ]
    }
   ],
   "source": [
    "# Convert X_train to DataFrame if needed (preserve columns if they exist, otherwise create generic ones)\n",
    "if not isinstance(X_train, pd.DataFrame):\n",
    "    X_train = pd.DataFrame(X_train, columns=[f\"X{i}\" for i in range(X_train.shape[1])])\n",
    "if not isinstance(X_select, pd.DataFrame):\n",
    "    X_select = pd.DataFrame(X_select, columns=X_train.columns)\n",
    "if not isinstance(X_test, pd.DataFrame):\n",
    "    X_test = pd.DataFrame(X_test, columns=X_train.columns)\n",
    "\n",
    "#Convert y_train, y_select, and y_test to Series if needed\n",
    "if not isinstance(y_train, pd.Series):\n",
    "    y_train = pd.Series(y_train, name=\"y\")\n",
    "if not isinstance(y_select, pd.Series):\n",
    "    y_select = pd.Series(y_select, name=\"y\")\n",
    "if not isinstance(y_test, pd.Series):\n",
    "    y_test = pd.Series(y_test, name=\"y\")\n",
    "\n",
    "#Combine the train and select sets (keeping them as DataFrames/Series)\n",
    "X_train_select = pd.concat([X_train, X_select], axis = 0)\n",
    "y_train_select = pd.concat([y_train, y_select], axis = 0)\n",
    "\n",
    "# Fit the final Ridge model on the combined train+select data. X_train_select already includes an intercept column\n",
    "ridge_final = Ridge(alpha = best_lambda , fit_intercept = False)\n",
    "ridge_final.fit(X_train_select, y_train_select)\n",
    "g_final =  ridge_final # final model object\n",
    "\n",
    "# Display the final model coefficients with their feature names.\n",
    "coef_series = pd.Series(g_final.coef_,index = X_train_select.columns)\n",
    "print(\"Final model coefficients:\")\n",
    "print(coef_series)\n",
    "\n",
    "# Evaluate on the test set (which is also a DataFrame)\n",
    "preds_test = g_final.predict(X_test)\n",
    "test_oosRMSE = np.sqrt(np.mean((preds_test - y_test)**2))\n",
    "print(\"Test-set RMSE:\",  test_oosRMSE)"
   ]
  },
  {
   "cell_type": "markdown",
   "id": "1bba0d8d-2481-4284-b9f0-2ae69d87c9a4",
   "metadata": {},
   "source": [
    "## Model Selection with Three Splits: Forward stepwise modeling\n",
    "\n",
    "We will use the adult data"
   ]
  },
  {
   "cell_type": "code",
   "execution_count": 51,
   "id": "9a2aa4eb-471b-46d8-a12a-782c07d2d9e5",
   "metadata": {},
   "outputs": [
    {
     "name": "stdout",
     "output_type": "stream",
     "text": [
      "Number of observations after dropping missing values: 30162\n",
      "Number of features after dropping education: 14\n",
      "   age         workclass  fnlwgt  education_num      marital_status  \\\n",
      "0   39         State-gov   77516             13       Never-married   \n",
      "1   50  Self-emp-not-inc   83311             13  Married-civ-spouse   \n",
      "2   38           Private  215646              9            Divorced   \n",
      "3   53           Private  234721              7  Married-civ-spouse   \n",
      "4   28           Private  338409             13  Married-civ-spouse   \n",
      "\n",
      "          occupation   relationship   race     sex  capital_gain  \\\n",
      "0       Adm-clerical  Not-in-family  White    Male          2174   \n",
      "1    Exec-managerial        Husband  White    Male             0   \n",
      "2  Handlers-cleaners  Not-in-family  White    Male             0   \n",
      "3  Handlers-cleaners        Husband  Black    Male             0   \n",
      "4     Prof-specialty           Wife  Black  Female             0   \n",
      "\n",
      "   capital_loss  hours_per_week native_country income  \n",
      "0             0              40  United-States  <=50K  \n",
      "1             0              13  United-States  <=50K  \n",
      "2             0              40  United-States  <=50K  \n",
      "3             0              40  United-States  <=50K  \n",
      "4             0              40           Cuba  <=50K  \n"
     ]
    }
   ],
   "source": [
    "#Import the data from the CSV file\n",
    "adult = pd.read_csv(\"adult_data.csv\")\n",
    "\n",
    "#Remove observations with any missing values (similar to na.omit in R)\n",
    "adult = adult.dropna()\n",
    "\n",
    "#Check the number of observations\n",
    "n = adult.shape[0]\n",
    "\n",
    "print(\"Number of observations after dropping missing values:\", n)\n",
    "\n",
    "#Remove the \"education\" column (which is duplicative with education-num)\n",
    "if \"education\" in adult.columns:\n",
    "    adult = adult.drop(columns=[\"education\"])\n",
    "else:\n",
    "    print(\"Column 'education' not found; please check column names.\")\n",
    "\n",
    "p = adult.shape[1]\n",
    "print(\"Number of features after dropping education:\", p)\n",
    "\n",
    "#Inspect the first few rows\n",
    "print(adult.head())"
   ]
  },
  {
   "cell_type": "markdown",
   "id": "ddb6638c-ba94-45d6-8eb7-9f8f04d83eb9",
   "metadata": {},
   "source": [
    "To implement forward stepwise, we need a \"full model\" that contains anything and everything we can possible want to use as transformed predictors. Let's first create log features of all the numeric features. Instead of pure log, use log(value + epsilon) to handle possible zeroes."
   ]
  },
  {
   "cell_type": "code",
   "execution_count": 52,
   "id": "5fee285d-25a8-4a12-b77b-a623947d87a2",
   "metadata": {},
   "outputs": [
    {
     "name": "stdout",
     "output_type": "stream",
     "text": [
      "                age        fnlwgt  education_num  capital_gain  capital_loss  \\\n",
      "count  30162.000000  3.016200e+04   30162.000000  30162.000000  30162.000000   \n",
      "mean      38.437902  1.897938e+05      10.121312   1092.007858     88.372489   \n",
      "std       13.134665  1.056530e+05       2.549995   7406.346497    404.298370   \n",
      "min       17.000000  1.376900e+04       1.000000      0.000000      0.000000   \n",
      "25%       28.000000  1.176272e+05       9.000000      0.000000      0.000000   \n",
      "50%       37.000000  1.784250e+05      10.000000      0.000000      0.000000   \n",
      "75%       47.000000  2.376285e+05      13.000000      0.000000      0.000000   \n",
      "max       90.000000  1.484705e+06      16.000000  99999.000000   4356.000000   \n",
      "\n",
      "       hours_per_week  \n",
      "count    30162.000000  \n",
      "mean        40.931238  \n",
      "std         11.979984  \n",
      "min          1.000000  \n",
      "25%         40.000000  \n",
      "50%         40.000000  \n",
      "75%         45.000000  \n",
      "max         99.000000  \n",
      "   age         workclass  fnlwgt  education_num      marital_status  \\\n",
      "0   39         State-gov   77516             13       Never-married   \n",
      "1   50  Self-emp-not-inc   83311             13  Married-civ-spouse   \n",
      "2   38           Private  215646              9            Divorced   \n",
      "3   53           Private  234721              7  Married-civ-spouse   \n",
      "4   28           Private  338409             13  Married-civ-spouse   \n",
      "\n",
      "          occupation   relationship   race     sex  capital_gain  \\\n",
      "0       Adm-clerical  Not-in-family  White    Male          2174   \n",
      "1    Exec-managerial        Husband  White    Male             0   \n",
      "2  Handlers-cleaners  Not-in-family  White    Male             0   \n",
      "3  Handlers-cleaners        Husband  Black    Male             0   \n",
      "4     Prof-specialty           Wife  Black  Female             0   \n",
      "\n",
      "   capital_loss  hours_per_week native_country income   log_age  log_fnlwgt  \\\n",
      "0             0              40  United-States  <=50K  3.663562   11.258240   \n",
      "1             0              13  United-States  <=50K  3.912023   11.330336   \n",
      "2             0              40  United-States  <=50K  3.637586   12.281393   \n",
      "3             0              40  United-States  <=50K  3.970292   12.366153   \n",
      "4             0              40           Cuba  <=50K  3.332205   12.732011   \n",
      "\n",
      "   log_education_num  log_capital_gain  log_capital_loss  log_hours_per_week  \n",
      "0           2.564949          7.684324        -13.815511            3.688879  \n",
      "1           2.564949        -13.815511        -13.815511            2.564949  \n",
      "2           2.197225        -13.815511        -13.815511            3.688879  \n",
      "3           1.945910        -13.815511        -13.815511            3.688879  \n",
      "4           2.564949        -13.815511        -13.815511            3.688879  \n"
     ]
    }
   ],
   "source": [
    "#Inspect the numeric features using describe()\n",
    "import numpy as np\n",
    "print(adult.describe())\n",
    "\n",
    "#Create log-transformed features (using log(value + epsilon) to avoid issues with zero values)\n",
    "epsilon = 1e-6\n",
    "adult['log_age'] = np.log(adult['age'] + epsilon)\n",
    "adult['log_fnlwgt'] = np.log(adult['fnlwgt'] + epsilon)\n",
    "adult['log_education_num'] = np.log(adult['education_num'] + epsilon)\n",
    "adult['log_capital_gain'] = np.log(adult['capital_gain'] + epsilon)\n",
    "adult['log_capital_loss'] = np.log(adult['capital_loss'] + epsilon)\n",
    "adult['log_hours_per_week'] = np.log(adult['hours_per_week'] + epsilon)\n",
    "\n",
    "#Inspect the first few rows to confirm the new columns\n",
    "print(adult.head())"
   ]
  },
  {
   "cell_type": "markdown",
   "id": "84295804-3813-4095-ac40-942155b3b717",
   "metadata": {},
   "source": [
    "Now let's create a model matrix Xfull that contains all first order interactions. How many degrees of freedom in this \"full model\"?"
   ]
  },
  {
   "cell_type": "code",
   "execution_count": 53,
   "id": "d1da2567-9001-40e3-8222-8bcbc92dd47a",
   "metadata": {},
   "outputs": [
    {
     "name": "stdout",
     "output_type": "stream",
     "text": [
      "Numeric columns: ['age', 'fnlwgt', 'education_num', 'capital_gain', 'capital_loss', 'hours_per_week']\n",
      "Categorical columns: ['workclass', 'education', 'marital_status', 'occupation', 'relationship', 'race', 'sex', 'native_country', 'income']\n",
      "Dimensions of Xfull: (32561, 4950)\n",
      "Degrees of freedom in the full model (including intercept): 4950\n"
     ]
    }
   ],
   "source": [
    "from sklearn.preprocessing import PolynomialFeatures\n",
    "\n",
    "#Load the adult data from the CSV file (exported from R)\n",
    "adult = pd.read_csv(\"adult_data.csv\")\n",
    "\n",
    "#Identify numeric and categorical columns.\n",
    "numeric_cols = adult.select_dtypes(include=['number']).columns.tolist()\n",
    "categorical_cols = adult.select_dtypes(include=['object', 'category']).columns.tolist()\n",
    "\n",
    "print(\"Numeric columns:\", numeric_cols)\n",
    "print(\"Categorical columns:\", categorical_cols )\n",
    "\n",
    "#Convert categorical columns to dummy variables using drop_first=True (producing k-1 columns per factor).\n",
    "adult_numeric = adult[numeric_cols]\n",
    "adult_categorical = adult[categorical_cols] \n",
    "adult_cat_dummies = pd.get_dummies(adult_categorical, drop_first=True)\n",
    "\n",
    "#Combine numeric and dummy columns\n",
    "adult_full = pd.concat([adult_numeric, adult_cat_dummies], axis = 1) #column wise NOT row-wise\n",
    "\n",
    "# Now create the full model matrix with main effects and all two-way interactions.\n",
    "pf = PolynomialFeatures(degree = 2, include_bias = True, interaction_only = False)\n",
    "Xfull_array = pf.fit_transform(adult_full)\n",
    "\n",
    "#Retrieve feature names\n",
    "try:\n",
    "    feature_names = pf.get_feature_names_out(adult_full.columns)\n",
    "except AttributeError:\n",
    "    feature_names = pf.get_feature_names(adult_full.columns)\n",
    "\n",
    "#Convert to a DataFrame\n",
    "Xfull = pd.DataFrame(Xfull_array, columns=feature_names)\n",
    "\n",
    "#Report the dimensions and degrees of freedom (number of columns)\n",
    "print(\"Dimensions of Xfull:\", Xfull.shape )\n",
    "print(\"Degrees of freedom in the full model (including intercept):\", Xfull.shape[1] )"
   ]
  },
  {
   "cell_type": "markdown",
   "id": "1fcefc1b-1519-42c7-8606-fe7cd5948782",
   "metadata": {},
   "source": [
    "Now let's split it into train, select and test sets. Because this will be a glm, model-building (training) will be slow, so let's keep the training set small at 2,000. Since prediction is fast, we can divide the others evenly among select and test."
   ]
  },
  {
   "cell_type": "code",
   "execution_count": 54,
   "id": "7c0c8422-46e3-4270-94a5-4ef991fce4a7",
   "metadata": {},
   "outputs": [
    {
     "name": "stdout",
     "output_type": "stream",
     "text": [
      "Train: (2000, 4950)\n",
      "Select: (15280, 4950)\n",
      "Test: (15281, 4950)\n"
     ]
    }
   ],
   "source": [
    "from sklearn.model_selection import train_test_split\n",
    "\n",
    "# Define y as the binary target (assuming it's the 'income' column)\n",
    "y = (adult['income'] == '>50K').astype(int).values  # Convert to binary 0/1\n",
    "\n",
    "# Step 1: Split into train (2000) and temp (rest)\n",
    "X_train, X_temp, y_train, y_temp = train_test_split(\n",
    "    Xfull, y, train_size=2000, random_state=42, stratify=y\n",
    ")\n",
    "\n",
    "# Step 2: Split temp into select and test (even split)\n",
    "X_select, X_test, y_select, y_test = train_test_split(\n",
    "    X_temp, y_temp, test_size=0.5, random_state=42, stratify=y_temp\n",
    ")\n",
    "\n",
    "print(\"Train:\", X_train.shape)\n",
    "print(\"Select:\", X_select.shape)\n",
    "print(\"Test:\", X_test.shape)\n"
   ]
  },
  {
   "cell_type": "markdown",
   "id": "2cfc22b2-4e6a-4738-84e0-f0bed99a7123",
   "metadata": {},
   "source": [
    "Now let's use the code from class to run the forward stepwise modeling. As this is binary classification, let's use logistic regression and to measure model performance, let's use the Brier score. Compute the Brier score in-sample (on training set) and oos (on selection set) for every iteration of j, the number of features selected from the greedy selection procedure."
   ]
  },
  {
   "cell_type": "code",
   "execution_count": null,
   "id": "a589078b-91fd-4e3a-8b3e-db3a31c07973",
   "metadata": {},
   "outputs": [],
   "source": [
    "# Step 3: Check and remove highly correlated features\n",
    "correlation_matrix = X_train.corr()\n",
    "plt.figure(figsize=(10, 8))\n",
    "sns.heatmap(correlation_matrix, annot=True, cmap='coolwarm', fmt='.2f', linewidths=0.5)\n",
    "plt.title('Feature Correlation Matrix')\n",
    "plt.show()\n",
    "\n",
    "# Remove highly correlated features (correlation > 0.9)\n",
    "threshold = 0.9\n",
    "to_remove = set()\n",
    "\n",
    "for i in range(len(correlation_matrix.columns)):\n",
    "    for j in range(i):\n",
    "        if abs(correlation_matrix.iloc[i, j]) > threshold:\n",
    "            colname = correlation_matrix.columns[i]\n",
    "            to_remove.add(colname)\n",
    "\n",
    "# Remove highly correlated features\n",
    "X_train_cleaned = X_train.drop(columns=to_remove)\n",
    "X_select_cleaned = X_select.drop(columns=to_remove)\n",
    "\n",
    "# Step 4: Forward Stepwise Modeling with Logistic Regression\n",
    "# Initialize regularized logistic regression model\n",
    "model = LogisticRegression(solver='liblinear', max_iter=1000)\n",
    "\n",
    "# Set up for feature selection\n",
    "feature_names = list(X_train_cleaned.columns)\n",
    "remaining_features = feature_names.copy()\n",
    "selected_features = []\n",
    "\n",
    "brier_train_scores = []\n",
    "brier_select_scores = []\n",
    "\n",
    "max_features = 30  # You can adjust this based on runtime\n",
    "\n",
    "# Forward stepwise selection loop\n",
    "for j in range(1, max_features + 1):\n",
    "    best_brier_select = np.inf\n",
    "    best_feature = None\n",
    "    best_model = None\n",
    "    best_brier_train = None\n",
    "\n",
    "    for f in remaining_features:\n",
    "        candidate = selected_features + [f]\n",
    "        \n",
    "        # Train and select sets\n",
    "        X_j_train = X_train_cleaned[candidate]\n",
    "        X_j_select = X_select_cleaned[candidate]\n",
    "\n",
    "        model.fit(X_j_train, y_train)\n",
    "        probs_train = model.predict_proba(X_j_train)[:, 1]  # Probabilities for class 1\n",
    "        probs_select = model.predict_proba(X_j_select)[:, 1]  # Probabilities for class 1\n",
    "\n",
    "        brier_train = mean_squared_error(y_train, probs_train)\n",
    "        brier_select = mean_squared_error(y_select, probs_select)\n",
    "\n",
    "        if brier_select < best_brier_select:\n",
    "            best_brier_select = brier_select\n",
    "            best_brier_train = brier_train\n",
    "            best_feature = f\n",
    "\n",
    "    selected_features.append(best_feature)\n",
    "    remaining_features.remove(best_feature)\n",
    "    \n",
    "    brier_train_scores.append(best_brier_train)\n",
    "    brier_select_scores.append(best_brier_select)\n",
    "\n",
    "    print(f\"j = {j}, Feature Added: {best_feature}\")\n",
    "    print(f\"Brier Train: {best_brier_train:.4f}, Brier Select: {best_brier_select:.4f}\")"
   ]
  },
  {
   "cell_type": "markdown",
   "id": "0e632e55-a649-47c2-a826-3e0564748979",
   "metadata": {},
   "source": [
    "Plot the in-sample Brier score (in red) and oos Brier score (in blue) by the number of features used."
   ]
  },
  {
   "cell_type": "code",
   "execution_count": null,
   "id": "cd46da44-72f1-4bdf-a32e-f66148badfb3",
   "metadata": {},
   "outputs": [],
   "source": [
    "import matplotlib.pyplot as plt\n",
    "\n",
    "plt.figure(figsize=(10, 6))\n",
    "plt.plot(range(1, max_features + 1), brier_train_scores, color='red', label='Train Brier')\n",
    "plt.plot(range(1, max_features + 1), brier_select_scores, color='blue', label='Select Brier')\n",
    "plt.xlabel('Number of Features Selected (j)')\n",
    "plt.ylabel('Brier Score')\n",
    "plt.title('Brier Score vs Number of Features Selected')\n",
    "plt.legend()\n",
    "plt.grid(True)\n",
    "plt.show()\n"
   ]
  },
  {
   "cell_type": "markdown",
   "id": "efae726b-efa1-4c4a-acc9-06468158ab69",
   "metadata": {},
   "source": [
    "Select the model with the best oos Brier score on the select set and find its oos Brier score on the test set."
   ]
  },
  {
   "cell_type": "code",
   "execution_count": null,
   "id": "3be073e4-5a90-46cd-8b56-eba1baa6612a",
   "metadata": {},
   "outputs": [],
   "source": [
    "# Best model is the one with lowest select Brier score\n",
    "best_j = np.argmin(brier_select_scores) + 1\n",
    "best_features = selected_features[:best_j]\n",
    "\n",
    "# Fit model on best subset using train data\n",
    "X_best_train = X_train[best_features]\n",
    "X_best_test = X_test[best_features]\n",
    "\n",
    "final_model = sm.Logit(y_train, X_best_train).fit(disp=False)\n",
    "probs_test = final_model.predict(X_best_test)\n",
    "brier_test = mean_squared_error(y_test, probs_test)\n",
    "\n",
    "print(f\"\\nBest j = {best_j} features\")\n",
    "print(f\"OOS Brier on test set: {brier_test:.4f}\")\n"
   ]
  },
  {
   "cell_type": "markdown",
   "id": "83aeeaa4-c4b4-4694-b597-bc9eab33c3af",
   "metadata": {},
   "source": [
    "Create the final model object `g_final`."
   ]
  },
  {
   "cell_type": "code",
   "execution_count": null,
   "id": "5056b290-a785-4f15-8d21-d09078695689",
   "metadata": {},
   "outputs": [],
   "source": [
    "g_final = sm.Logit(y_train, X_best_train).fit()\n",
    "print(g_final.summary())\n"
   ]
  },
  {
   "cell_type": "markdown",
   "id": "b34f6828-5974-429a-9021-3a4e9579d2a1",
   "metadata": {},
   "source": [
    "# Data Wrangling / Munging / Carpentry\n",
    "\n",
    "We will be using Pandas for the rest of this section for Data Wrangling/Munging/Carpentry"
   ]
  },
  {
   "cell_type": "markdown",
   "id": "6ee4c497-f996-4062-8b1a-3164ec5dbb34",
   "metadata": {},
   "source": [
    "Load the `storms` dataset from the `dplyr` package and read about it using `?storms` and summarize its data via `skimr:skim`. "
   ]
  },
  {
   "cell_type": "code",
   "execution_count": null,
   "id": "6229f8f8-8252-455c-a615-6231a26627db",
   "metadata": {},
   "outputs": [],
   "source": [
    "!pip install skimpy"
   ]
  },
  {
   "cell_type": "code",
   "execution_count": null,
   "id": "7aa8fe54-1757-47ec-be8b-0635fd149805",
   "metadata": {},
   "outputs": [],
   "source": [
    "import pandas as pd\n",
    "from skimpy import skim\n",
    "\n",
    "#Load storms directly from dplyr’s GitHub (raw CSV) ———\n",
    "url = (\n",
    "    \"https://raw.githubusercontent.com/\"\n",
    "    \"tidyverse/dplyr/master/data-raw/storms.csv\"\n",
    ")\n",
    "storms = pd.read_csv(url)  \n",
    "\n",
    "#Summarize via skimpy (like skimr::skim) ———\n",
    "skim(storms)\n",
    "\n",
    "#Show the first few rows (like head()) ———\n",
    "print(storms.head())"
   ]
  },
  {
   "cell_type": "markdown",
   "id": "d7f1e843-2677-4660-90da-989456faf87f",
   "metadata": {},
   "source": [
    "To make the modeling exercise easier, let's eliminate rows that have missingness in `tropicalstorm_force_diameter` or `hurricane_force_diameter`."
   ]
  },
  {
   "cell_type": "code",
   "execution_count": null,
   "id": "ce0b2d09-7e0a-468e-8afb-f08ad2fdd957",
   "metadata": {},
   "outputs": [],
   "source": [
    "# Drop rows with NA in either diameter column\n",
    "storms_clean = storms.dropna(\n",
    "    subset=[\"tropicalstorm_force_diameter\", \"hurricane_force_diameter\"]\n",
    ")\n",
    "\n",
    "# Reset the index so skimpy’s argmin+loc hack works\n",
    "storms_clean = storms_clean.reset_index(drop=True)\n",
    "\n",
    "# See how many rows you kept\n",
    "print(f\"Kept {len(storms_clean)} of {len(storms)} rows\")\n",
    "\n",
    "#Summarize the cleaned data\n",
    "skim(storms_clean)"
   ]
  },
  {
   "cell_type": "markdown",
   "id": "19a955cb-fb5e-4a99-bbdc-e7c1fa4d5e6a",
   "metadata": {},
   "source": [
    "Which column(s) should be converted to type factor? Do the conversion:"
   ]
  },
  {
   "cell_type": "code",
   "execution_count": null,
   "id": "36abcb53-4654-4b9e-9246-9ea2729fefb6",
   "metadata": {},
   "outputs": [],
   "source": [
    "# Convert to categorical (factor) dtype\n",
    "storms_clean['status'] = storms_clean['status'].astype('category')\n",
    "storms_clean['category'] = storms_clean['category'].astype('category')\n",
    "\n",
    "# Verify\n",
    "print(storms_clean.dtypes[['status', 'category']])"
   ]
  },
  {
   "cell_type": "markdown",
   "id": "24fcb8ff-b95a-48cd-9399-517ef8af9232",
   "metadata": {},
   "source": [
    "Reorder the columns so name is first, status is second, category is third and the rest are the same."
   ]
  },
  {
   "cell_type": "code",
   "execution_count": null,
   "id": "18fb1aa8-c5a7-4e1b-8944-735010c6a907",
   "metadata": {},
   "outputs": [],
   "source": [
    "# Reorder columns so that 'name', 'status', 'category' come first by using a list comprehension\n",
    "cols = storms_clean.columns.tolist()\n",
    "new_order = ['name', 'status', 'category'] + [c for c in cols if c not in ('name', 'status', 'category')]\n",
    "\n",
    "# Apply the new column order\n",
    "storms_clean = storms_clean[new_order]\n",
    "\n",
    "# (Optional) Verify the new order\n",
    "print(storms_clean.columns)"
   ]
  },
  {
   "cell_type": "markdown",
   "id": "be871e69-17d9-4a81-b6dc-a727b2a1c7ab",
   "metadata": {},
   "source": [
    "Find a subset of the data of storms only in the 1970's."
   ]
  },
  {
   "cell_type": "code",
   "execution_count": null,
   "id": "5ea1c85e-633f-4d35-b083-3cbd2082baa1",
   "metadata": {},
   "outputs": [],
   "source": [
    "#Subset to storms in the 1970s (i.e. years 1970–1979 inclusive)\n",
    "storms_1970s = storms_clean.copy()\n",
    "storms_1970s = storms_1970s[\n",
    "    (storms_clean['year'] >= 1970) &\n",
    "    (storms_clean['year'] < 1970)\n",
    "\n",
    "]\n",
    "\n",
    "#Check how many rows and peek at the first few\n",
    "print(f\"Number of 1970s storm records: {len(storms_1970s)}\")\n",
    "print(storms_1970s.head())\n",
    "\n",
    "# we get 0 bc they dont have category "
   ]
  },
  {
   "cell_type": "code",
   "execution_count": null,
   "id": "23260f0a-5ebd-481b-a896-135abfdfedb3",
   "metadata": {},
   "outputs": [],
   "source": [
    "storms_clean.to_csv('file_name.csv', index = False )"
   ]
  },
  {
   "cell_type": "markdown",
   "id": "ce6af50d-3beb-4c5b-83a9-e650605186d5",
   "metadata": {},
   "source": [
    "Find a subset of the data of storm observations only with category 4 and above and wind speed 100MPH and above."
   ]
  },
  {
   "cell_type": "code",
   "execution_count": null,
   "id": "6b6541be-7f13-4a76-84db-761a7dba411b",
   "metadata": {},
   "outputs": [],
   "source": [
    "#Subset to Saffir–Simpson category 4 or 5 AND wind ≥ 100 mph\n",
    "storms_cat4plus = storms_clean.copy()\n",
    "\n",
    "#Ensure 'category' is numeric (coerce non‑numbers to NaN)\n",
    "storms_cat4plus['category'] = pd.to_numeric(storms_cat4plus['category'], errors = 'coerce')\n",
    "\n",
    "#Build your mask with explicit parentheses\n",
    "mask = (\n",
    "    storms_cat4plus['category'].notna() &\n",
    "    (storms_cat4plus['category'] >= 4)\n",
    "    (storms_cat4plus['wind'] >= 100)\n",
    "           # drop missing categories\n",
    "           # keep only cat 4 or 5\n",
    "           # wind at least 100 mph\n",
    ")\n",
    "\n",
    "#Apply to the same DataFrame and reset the index\n",
    "storms_cat4plus = storms_cat4plus.loc[mask].reset_index(drop = True)\n",
    "\n",
    "#Sanity check\n",
    "print(f\"Found {len(storms_cat4plus)} records:\")\n",
    "print(storms_cat4plus[['name','status','category','wind']].head())"
   ]
  },
  {
   "cell_type": "markdown",
   "id": "6f2716cd-5c44-47c1-9152-a34c8bf8c771",
   "metadata": {},
   "source": [
    "Create a new feature `wind_speed_per_unit_pressure`."
   ]
  },
  {
   "cell_type": "code",
   "execution_count": null,
   "id": "c9e3f0ca-b187-41e7-b10c-3a42489de307",
   "metadata": {},
   "outputs": [],
   "source": [
    "storms_clean = storms_clean.copy()\n",
    "storms_clean['wind_speed_per_unit_pressure'] = (\n",
    "    storms_clean['wind']/storms_clean['pressure']\n",
    "    \n",
    ")\n",
    "\n",
    "# Verify it was added:\n",
    "print(storms_clean[['wind','pressure','wind_speed_per_unit_pressure']].head())\n",
    "storms_clean"
   ]
  },
  {
   "cell_type": "markdown",
   "id": "933494f7-bf4f-46de-8df6-d8c8c029d2a9",
   "metadata": {},
   "source": [
    "Create a new feature: `average_diameter` which averages the two diameter metrics. If one is missing, then use the value of the one that is present. If both are missing, leave missing."
   ]
  },
  {
   "cell_type": "code",
   "execution_count": null,
   "id": "9ba567ad-cb46-48b0-b2c6-26165802412f",
   "metadata": {},
   "outputs": [],
   "source": [
    "storms_clean['average_diameter'] = storms_clean[\n",
    "    ['tropicalstorm_force_diameter', 'hurricane_force_diameter']\n",
    "].mean(axis = 1, skipna = True)\n",
    "\n",
    "#Verify it worked:\n",
    "print(storms_clean[['tropicalstorm_force_diameter','hurricane_force_diameter', 'average_diameter' ]].head())\n",
    "storms_clean"
   ]
  },
  {
   "cell_type": "markdown",
   "id": "4bfe5eeb-9d31-4381-b3bf-54b5857ef810",
   "metadata": {},
   "source": [
    "For each storm, summarize the maximum wind speed. \"Summarize\" means create a new dataframe with only the summary metrics you care about."
   ]
  },
  {
   "cell_type": "code",
   "execution_count": null,
   "id": "162e4281-922d-4dbf-a90c-ae90c8304d46",
   "metadata": {},
   "outputs": [],
   "source": [
    "#Group by storm name and compute the maximum wind speed\n",
    "max_wind_per_storm = (\n",
    "    storms.groupby('name', as_index = False).agg(max_wind = ('wind', 'max'))\n",
    ")\n",
    "\n",
    "#Inspect the result\n",
    "max_wind_per_storm"
   ]
  },
  {
   "cell_type": "markdown",
   "id": "68f76338-556d-45dc-95fa-f226cf5c25d2",
   "metadata": {},
   "source": [
    "Order your dataset by maximum wind speed storm but within the rows of storm show the observations in time order from early to late."
   ]
  },
  {
   "cell_type": "code",
   "execution_count": null,
   "id": "493e98ab-234d-421a-b476-8c6a2a00ba0e",
   "metadata": {},
   "outputs": [],
   "source": [
    "#Create a datetime column from year, month, day, hour\n",
    "storms['datetime'] = pd.to_datetime(\n",
    "    dict(year = storms.year, month = storms.month, day = storms.day , hour = storms.hour)\n",
    "    \n",
    ")\n",
    "\n",
    "#Compute each storm’s maximum wind speed\n",
    "storms['max_wind'] = storms.groupby('name')['wind'].transform('max')\n",
    "\n",
    "#Sort storms by max_wind descending, and within each storm by datetime ascending\n",
    "storms_sorted = storms.sort_values(\n",
    "    ['max_wind', 'datetime'] , \n",
    "     ascending = [False, True]\n",
    "  \n",
    ").reset_index(drop=True)\n",
    "\n",
    "storms_sorted"
   ]
  },
  {
   "cell_type": "markdown",
   "id": "92a09a1b-527b-4204-86e6-160e918ec3f2",
   "metadata": {},
   "source": [
    "Find the strongest storm by wind speed per year."
   ]
  },
  {
   "cell_type": "code",
   "execution_count": null,
   "id": "478abe7a-218c-40e9-8074-42244b5e4714",
   "metadata": {},
   "outputs": [],
   "source": [
    "# Compute each storm’s maximum wind speed per year\n",
    "storm_max = (\n",
    "    storms\n",
    "    .groupby(['year', 'name'], as_index=False)\n",
    "    .agg(max_wind=('wind', 'max'))\n",
    ")\n",
    "\n",
    "# For each year, get the index of the storm with the highest max_wind\n",
    "idx = (\n",
    "    storm_max\n",
    "    .groupby('year')['max_wind']\n",
    "    .idxmax()\n",
    ")\n",
    "\n",
    "# Use those indices to select the strongest storm per year\n",
    "strongest_per_year = storm_max.loc[idx].reset_index(drop=True)\n",
    "\n",
    "# Inspect the result\n",
    "print(strongest_per_year)\n"
   ]
  },
  {
   "cell_type": "markdown",
   "id": "dea509bd-d3b9-4f81-b330-6b033f300472",
   "metadata": {},
   "source": [
    "For each named storm, find its maximum category, wind speed, pressure and diameters. Do not allow the max to be NA (unless all the measurements for that storm were NA)."
   ]
  },
  {
   "cell_type": "code",
   "execution_count": null,
   "id": "dc358951-c159-4a38-8ad9-be85c3129773",
   "metadata": {},
   "outputs": [],
   "source": [
    "# Make sure 'category' is a nullable integer so max skips NA by default\n",
    "storms['category'] = pd.to_numeric(storms['category'], errors='coerce').astype('Int64')\n",
    "\n",
    "# Group by storm name and compute the maxima (skipna=True by default)\n",
    "summary = storms.groupby('name', as_index=False).agg(\n",
    "    max_category=('category', 'max'),\n",
    "    max_wind=('wind', 'max'),\n",
    "    max_pressure=('pressure', 'max'),\n",
    "    max_tropicalstorm_diameter=('tropicalstorm_force_diameter', 'max'),\n",
    "    max_hurricane_diameter=('hurricane_force_diameter', 'max')\n",
    ")\n",
    "\n",
    "# Inspect the first few rows\n",
    "print(summary.head())\n"
   ]
  },
  {
   "cell_type": "markdown",
   "id": "1287c97f-d64d-4cb9-a4dd-de7985d042c1",
   "metadata": {},
   "source": [
    "For each year in the dataset, tally the number of storms. \"Tally\" is a fancy word for \"count the number of\". Plot the number of storms by year. Any pattern?"
   ]
  },
  {
   "cell_type": "code",
   "execution_count": null,
   "id": "e9a01653-c6f4-42a1-8768-3433755e9643",
   "metadata": {},
   "outputs": [],
   "source": [
    "from plotnine import ggplot, aes, geom_line, geom_point, labs\n",
    "\n",
    "# Tally the number of unique named storms per year\n",
    "storms_per_year = storms.groupby('year')['name'].nunique().reset_index(name='count')\n",
    "\n",
    "# Plot with plotnine\n",
    "plot = (ggplot(storms_per_year, aes(x='year', y='count')) +\n",
    "        geom_line() +\n",
    "        geom_point() + \n",
    "        labs(x='Year', y='Number of Named Storms', title='Named Storms per Year')\n",
    ")\n",
    "\n",
    "plot\n"
   ]
  },
  {
   "cell_type": "markdown",
   "id": "3220da96-097c-4889-b853-8d75b0f34736",
   "metadata": {},
   "source": [
    "For each year in the dataset, tally the storms by category."
   ]
  },
  {
   "cell_type": "code",
   "execution_count": null,
   "id": "14d876d1-c353-4460-8b26-70fa865f0ecf",
   "metadata": {},
   "outputs": [],
   "source": [
    "# Ensure 'category' is numeric (so missing stays as NaN)\n",
    "storms['category'] = pd.to_numeric(storms['category'], errors='coerce')\n",
    "\n",
    "# Drop missing categories (if you only want actual hurricane categories)\n",
    "storms_cat = storms.dropna(subset=['category'])\n",
    "\n",
    "# Tally unique storms by year and category\n",
    "storms_by_category = (\n",
    "    storms_cat.groupby(['year', 'category'])['name']\n",
    "    .nunique()\n",
    "    .reset_index(name='count')\n",
    ")\n",
    "\n",
    "# Pivot to get categories as columns (with 'year' as index)\n",
    "storms_by_category_wide = storms_by_category.pivot(index='year', columns='category', values='count')\n",
    "\n",
    "# Inspect the long-format tally:\n",
    "print(storms_by_category)\n",
    "\n",
    "# Inspect the wide-format tally:\n",
    "print(storms_by_category_wide)\n"
   ]
  },
  {
   "cell_type": "markdown",
   "id": "584e96d1-d8d5-4f7f-a589-eff15f2cc43c",
   "metadata": {},
   "source": [
    "For each year in the dataset, find the maximum wind speed per status level."
   ]
  },
  {
   "cell_type": "code",
   "execution_count": null,
   "id": "59fef352-75ce-4b20-b16c-8df2f80c8a78",
   "metadata": {},
   "outputs": [],
   "source": [
    "# Ensure 'status' is treated as a category\n",
    "storms['status'] = storms['status'].astype('category')\n",
    "\n",
    "# Group by year and status, then compute the max wind speed in each group\n",
    "max_wind_by_year_status = (\n",
    "    storms.groupby(['year', 'status'], observed=True)['wind']\n",
    "    .max()\n",
    "    .reset_index(name='max_wind')\n",
    ")\n",
    "\n",
    "# Inspect the result\n",
    "print(max_wind_by_year_status.head(20))\n"
   ]
  },
  {
   "cell_type": "markdown",
   "id": "7312bd56-656d-4006-859c-a305a05e84a1",
   "metadata": {},
   "source": [
    "For each storm, summarize its average location in latitude / longitude coordinates."
   ]
  },
  {
   "cell_type": "code",
   "execution_count": null,
   "id": "45ba1e31-5a9d-4297-96b5-d14287d95575",
   "metadata": {},
   "outputs": [],
   "source": [
    "# Check the column names of the storms dataset\n",
    "print(storms.columns)\n"
   ]
  },
  {
   "cell_type": "code",
   "execution_count": null,
   "id": "571b5349-7a27-4b19-820b-bd205c7b7d07",
   "metadata": {},
   "outputs": [],
   "source": [
    "# Group by storm name and compute average latitude & longitude\n",
    "avg_location = (\n",
    "    storms.groupby('name', as_index=False)\n",
    "    .agg(avg_lat=('lat', 'mean'), avg_lon=('long', 'mean'))\n",
    ")\n",
    "\n",
    "# Inspect the result\n",
    "print(avg_location)\n"
   ]
  },
  {
   "cell_type": "markdown",
   "id": "9cb3d9bf-6413-42ec-8341-b8f2e23b1322",
   "metadata": {},
   "source": [
    "For each storm, summarize its duration in number of hours (to the nearest 6hr increment)."
   ]
  },
  {
   "cell_type": "code",
   "execution_count": null,
   "id": "12ced6c5-4c2a-4edd-8784-99d131093d55",
   "metadata": {},
   "outputs": [],
   "source": [
    "# Create a datetime column from year, month, day, hour\n",
    "storms['datetime'] = pd.to_datetime(\n",
    "    storms[['year', 'month', 'day', 'hour']]\n",
    ")\n",
    "\n",
    "# For each storm, find the earliest and latest observation\n",
    "duration = (\n",
    "    storms.groupby('name', as_index=False)\n",
    "    .agg(start_time=('datetime', 'min'), end_time=('datetime', 'max'))\n",
    ")\n",
    "\n",
    "# Compute duration in hours\n",
    "duration['duration_hours'] = (\n",
    "    (duration['end_time'] - duration['start_time']).dt.total_seconds() / 3600\n",
    ")\n",
    "\n",
    "# Round to the nearest 6-hour increment\n",
    "duration['duration_6hr_increment'] = (duration['duration_hours'] / 6).round() * 6\n",
    "\n",
    "# Select the summary columns\n",
    "storm_durations = duration[['name', 'duration_6hr_increment']]\n",
    "\n",
    "# Inspect the result\n",
    "print(storm_durations)\n"
   ]
  },
  {
   "cell_type": "markdown",
   "id": "503a0fa7-11ae-40a3-8a6b-0da25c899a34",
   "metadata": {},
   "source": [
    "For storm in a category, create a variable `storm_number` that enumerates the storms 1, 2, ... (in date order)."
   ]
  },
  {
   "cell_type": "code",
   "execution_count": 43,
   "id": "f3685ee9-4f30-46a4-854c-68ae02483184",
   "metadata": {},
   "outputs": [
    {
     "name": "stdout",
     "output_type": "stream",
     "text": [
      "        name          start_time  storm_category  storm_number\n",
      "60   Blanche 1975-07-24 00:00:00               1             1\n",
      "64   Candice 1976-08-18 12:00:00               1             2\n",
      "144    Holly 1976-10-22 18:00:00               1             3\n",
      "52      Babe 1977-09-03 06:00:00               1             4\n",
      "71     Clara 1977-09-05 12:00:00               1             5\n",
      "89   Dorothy 1977-09-26 18:00:00               1             6\n",
      "106   Evelyn 1977-10-13 18:00:00               1             7\n",
      "74      Cora 1978-08-07 12:00:00               1             8\n",
      "181   Kendra 1978-10-28 18:00:00               1             9\n",
      "142    Henri 1979-09-15 00:00:00               1            10\n",
      "         name  category            datetime  storm_number\n",
      "0         Amy      <NA> 1975-06-27 00:00:00           NaN\n",
      "1         Amy      <NA> 1975-06-27 06:00:00           NaN\n",
      "2         Amy      <NA> 1975-06-27 12:00:00           NaN\n",
      "3         Amy      <NA> 1975-06-27 18:00:00           NaN\n",
      "4         Amy      <NA> 1975-06-28 00:00:00           NaN\n",
      "...       ...       ...                 ...           ...\n",
      "19532  Nicole      <NA> 2022-11-10 19:00:00          37.0\n",
      "19533  Nicole      <NA> 2022-11-11 00:00:00          37.0\n",
      "19534  Nicole      <NA> 2022-11-11 06:00:00          37.0\n",
      "19535  Nicole      <NA> 2022-11-11 12:00:00          37.0\n",
      "19536  Nicole      <NA> 2022-11-11 18:00:00          37.0\n",
      "\n",
      "[19513 rows x 4 columns]\n",
      "         name  category            datetime  storm_number\n",
      "0         Amy      <NA> 1975-06-27 00:00:00           NaN\n",
      "1         Amy      <NA> 1975-06-27 06:00:00           NaN\n",
      "2         Amy      <NA> 1975-06-27 12:00:00           NaN\n",
      "3         Amy      <NA> 1975-06-27 18:00:00           NaN\n",
      "4         Amy      <NA> 1975-06-28 00:00:00           NaN\n",
      "...       ...       ...                 ...           ...\n",
      "19532  Nicole      <NA> 2022-11-10 19:00:00          37.0\n",
      "19533  Nicole      <NA> 2022-11-11 00:00:00          37.0\n",
      "19534  Nicole      <NA> 2022-11-11 06:00:00          37.0\n",
      "19535  Nicole      <NA> 2022-11-11 12:00:00          37.0\n",
      "19536  Nicole      <NA> 2022-11-11 18:00:00          37.0\n",
      "\n",
      "[19537 rows x 4 columns]\n"
     ]
    }
   ],
   "source": [
    "#Load the storms data\n",
    "url = (\n",
    "    \"https://raw.githubusercontent.com/\"\n",
    "    \"tidyverse/dplyr/master/data-raw/storms.csv\"\n",
    ")\n",
    "storms = pd.read_csv(url)\n",
    "\n",
    "#Coerce category to numeric (so blanks → NaN) and drop storms with no category\n",
    "storms['category'] = pd.to_numeric(storms['category'], errors='coerce').astype('Int64')\n",
    "\n",
    "#Build a datetime column for ordering\n",
    "storms['datetime'] = pd.to_datetime(\n",
    "    dict(\n",
    "        year=storms['year'],\n",
    "        month=storms['month'],\n",
    "        day=storms['day'],\n",
    "        hour=storms['hour']\n",
    "    )\n",
    ")\n",
    "\n",
    "#Summarize each storm’s start time and its (max) category\n",
    "storm_meta = (\n",
    "    storms\n",
    "    .groupby('name', as_index=False)\n",
    "    .agg(\n",
    "        start_time    = ('datetime', 'min'),\n",
    "        storm_category= ('category','max')\n",
    "    )\n",
    "    # drop any storms that never reached a hurricane category\n",
    "    .dropna(subset=['storm_category'])\n",
    ")\n",
    "storm_meta['storm_category'] = storm_meta['storm_category'].astype(int)\n",
    "\n",
    "#Sort by category, then by start_time\n",
    "storm_meta = storm_meta.sort_values(['storm_category','start_time'])\n",
    "\n",
    "#Within each category, enumerate storms in date order\n",
    "storm_meta['storm_number'] = storm_meta.groupby('storm_category').cumcount() + 1\n",
    "\n",
    "#Merge the storm_number back onto every observation\n",
    "storms = storms.merge(\n",
    "    storm_meta[['name','storm_number']],\n",
    "    on='name',\n",
    "    how='left'\n",
    ")\n",
    "\n",
    "# Now `storms` has a `storm_number` column that runs 1,2,3… within each category\n",
    "# Verify:\n",
    "print(storm_meta.head(10))\n",
    "print(storms[['name','category','datetime','storm_number']].drop_duplicates())\n",
    "print(storms[['name','category','datetime','storm_number']])"
   ]
  },
  {
   "cell_type": "markdown",
   "id": "fdc9c7da-7c69-46e8-a305-c41a6905ddd0",
   "metadata": {},
   "source": [
    "Convert year, month, day, hour into the variable `timestamp` using the `lubridate` package. Although the new package `clock` just came out, `lubridate` still seems to be standard. Next year I'll probably switch the class to be using `clock`."
   ]
  },
  {
   "cell_type": "code",
   "execution_count": 44,
   "id": "73cfac8d-a601-482d-8ba7-63b2e85193bf",
   "metadata": {},
   "outputs": [
    {
     "name": "stdout",
     "output_type": "stream",
     "text": [
      "   year  month  day  hour           timestamp\n",
      "0  1975      6   27     0 1975-06-27 00:00:00\n",
      "1  1975      6   27     6 1975-06-27 06:00:00\n",
      "2  1975      6   27    12 1975-06-27 12:00:00\n",
      "3  1975      6   27    18 1975-06-27 18:00:00\n",
      "4  1975      6   28     0 1975-06-28 00:00:00\n"
     ]
    }
   ],
   "source": [
    "# Use pandas' to_datetime on a dict of the separate columns\n",
    "storms['timestamp'] = pd.to_datetime({\n",
    "    'year': storms['year'],\n",
    "    'month': storms['month'],\n",
    "    'day': storms['day'],\n",
    "    'hour': storms['hour']\n",
    "})\n",
    "\n",
    "# Verify\n",
    "print(storms[['year', 'month', 'day', 'hour', 'timestamp']].head())\n"
   ]
  },
  {
   "cell_type": "markdown",
   "id": "719023d4-fe90-47f6-bbe1-7f5e9f3e9eea",
   "metadata": {},
   "source": [
    "Create new variables `day_of_week` which is a factor with levels \"Sunday\", \"Monday\", ... \"Saturday\" and `week_of_year` which is integer 1, 2, ..., 52."
   ]
  },
  {
   "cell_type": "code",
   "execution_count": 45,
   "id": "d520b495-fc51-4ade-a9ef-9c8a7d6494a2",
   "metadata": {},
   "outputs": [
    {
     "name": "stdout",
     "output_type": "stream",
     "text": [
      "            timestamp day_of_week  week_of_year\n",
      "0 1975-06-27 00:00:00      Friday            26\n",
      "1 1975-06-27 06:00:00      Friday            26\n",
      "2 1975-06-27 12:00:00      Friday            26\n",
      "3 1975-06-27 18:00:00      Friday            26\n",
      "4 1975-06-28 00:00:00    Saturday            26\n"
     ]
    }
   ],
   "source": [
    "# Create day_of_week as an ordered categorical (Sunday → Saturday)\n",
    "dow_order = ['Sunday', 'Monday', 'Tuesday', 'Wednesday', 'Thursday', 'Friday', 'Saturday']\n",
    "storms['day_of_week'] = pd.Categorical(\n",
    "    storms['timestamp'].dt.day_name(),\n",
    "    categories=dow_order,\n",
    "    ordered=True\n",
    ")\n",
    "\n",
    "# Create week_of_year as the ISO week number (1–52/53)\n",
    "storms['week_of_year'] = storms['timestamp'].dt.isocalendar().week\n",
    "\n",
    "# Verify\n",
    "print(storms[['timestamp', 'day_of_week', 'week_of_year']].head())\n"
   ]
  },
  {
   "cell_type": "markdown",
   "id": "ba161b03-d05d-471f-8ee2-9e35cdad793b",
   "metadata": {},
   "source": [
    "For each storm, summarize the day in which is started in the following format \"Friday, June 27, 1975\"."
   ]
  },
  {
   "cell_type": "code",
   "execution_count": 46,
   "id": "13aee056-e65c-4f56-a829-faf16a2797ab",
   "metadata": {},
   "outputs": [
    {
     "name": "stdout",
     "output_type": "stream",
     "text": [
      "       name                 start_day\n",
      "0  AL011993      Monday, May 31, 1993\n",
      "1  AL012000   Wednesday, June 7, 2000\n",
      "2  AL021992   Thursday, June 25, 1992\n",
      "3  AL021994  Wednesday, July 20, 1994\n",
      "4  AL021999      Friday, July 2, 1999\n"
     ]
    }
   ],
   "source": [
    "# For each storm, find its start time (earliest timestamp)\n",
    "start_times = (\n",
    "    storms.groupby('name', as_index=False)\n",
    "    .agg(start_time=('timestamp', 'min'))\n",
    ")\n",
    "\n",
    "# Format that start_time into \"Friday, June 27, 1975\"\n",
    "start_times['start_day'] = (\n",
    "    start_times['start_time'].dt.day_name() + \", \"\n",
    "    + start_times['start_time'].dt.month_name() + \" \"\n",
    "    + start_times['start_time'].dt.day.astype(str) + \", \"\n",
    "    + start_times['start_time'].dt.year.astype(str)\n",
    ")\n",
    "\n",
    "# Inspect the result\n",
    "print(start_times[['name', 'start_day']].head())\n"
   ]
  },
  {
   "cell_type": "markdown",
   "id": "42601271-2b69-424a-b780-f4b2909e96a1",
   "metadata": {},
   "source": [
    "Create a new factor variable `decile_windspeed` by binning wind speed into 10 bins."
   ]
  },
  {
   "cell_type": "code",
   "execution_count": 47,
   "id": "68f40799-e19a-40c3-a6cb-33dd8f1b6412",
   "metadata": {},
   "outputs": [
    {
     "name": "stdout",
     "output_type": "stream",
     "text": [
      "   wind decile_windspeed\n",
      "0    25              NaN\n",
      "1    25              NaN\n",
      "2    25              NaN\n",
      "3    25              NaN\n",
      "4    25              NaN\n",
      "5    25              NaN\n",
      "6    25              NaN\n",
      "7    30                1\n",
      "8    35                2\n",
      "9    40                3\n"
     ]
    }
   ],
   "source": [
    "# Create decile labels 1–10, pd.qcut will bin into 10 quantile-based groups\n",
    "storms['decile_windspeed'] = pd.qcut(\n",
    "    storms['wind'], \n",
    "    q=10,  # Specify 10 bins (deciles)\n",
    "    labels=False,  # Use integers for the labels (0–9)\n",
    "    duplicates='drop'  # Handle any duplicate bin edges by dropping the duplicates\n",
    ")\n",
    "\n",
    "# Convert to a categorical dtype (ordered)\n",
    "storms['decile_windspeed'] = pd.Categorical(\n",
    "    storms['decile_windspeed'], \n",
    "    categories=range(1, 11),  # Set the factor levels from 1 to 10\n",
    "    ordered=True  # Ensure it's an ordered categorical variable\n",
    ")\n",
    "\n",
    "# Verify\n",
    "print(storms[['wind', 'decile_windspeed']].head(10))\n"
   ]
  },
  {
   "cell_type": "markdown",
   "id": "0c8faa5c-eab0-4905-89e9-65445f66bbb4",
   "metadata": {},
   "source": [
    "Create a new data frame `serious_storms` which are category 3 and above hurricanes."
   ]
  },
  {
   "cell_type": "code",
   "execution_count": 48,
   "id": "bbaa7807-4634-46a6-a5be-c1e14d3bc47c",
   "metadata": {},
   "outputs": [
    {
     "name": "stdout",
     "output_type": "stream",
     "text": [
      "Found 1262 category 3+ storms\n",
      "         name     status  category  wind\n",
      "77   Caroline  hurricane         3   100\n",
      "78   Caroline  hurricane         3   100\n",
      "152    Eloise  hurricane         3   105\n",
      "153    Eloise  hurricane         3   110\n",
      "215    Gladys  hurricane         3   100\n"
     ]
    }
   ],
   "source": [
    "# Coerce 'category' to numeric so that non-hurricanes become NaN\n",
    "storms['category'] = pd.to_numeric(storms['category'], errors='coerce')\n",
    "\n",
    "# Filter to only category 3, 4, or 5 storms\n",
    "serious_storms = storms[storms['category'] >= 3]\n",
    "\n",
    "# Inspect\n",
    "print(f\"Found {len(serious_storms)} category 3+ storms\")\n",
    "print(serious_storms[['name', 'status', 'category', 'wind']].head())\n"
   ]
  },
  {
   "cell_type": "markdown",
   "id": "8b35aa63-43f9-4353-9c50-ed8ece17aeff",
   "metadata": {},
   "source": [
    "In `serious_storms`, merge the variables lat and long together into `lat_long` with values `lat / long` as a string."
   ]
  },
  {
   "cell_type": "code",
   "execution_count": 49,
   "id": "bb521f89-8484-4468-a3aa-1fe08be6d50f",
   "metadata": {},
   "outputs": [
    {
     "name": "stdout",
     "output_type": "stream",
     "text": [
      "      lat  long      lat_long\n",
      "77   24.0 -97.0  24.0 / -97.0\n",
      "78   24.1 -97.5  24.1 / -97.5\n",
      "152  28.4 -87.3  28.4 / -87.3\n",
      "153  30.2 -86.3  30.2 / -86.3\n",
      "215  31.0 -73.0  31.0 / -73.0\n"
     ]
    },
    {
     "name": "stderr",
     "output_type": "stream",
     "text": [
      "C:\\Users\\ilana brunner\\AppData\\Local\\Temp\\ipykernel_24336\\3071358540.py:2: SettingWithCopyWarning: \n",
      "A value is trying to be set on a copy of a slice from a DataFrame.\n",
      "Try using .loc[row_indexer,col_indexer] = value instead\n",
      "\n",
      "See the caveats in the documentation: https://pandas.pydata.org/pandas-docs/stable/user_guide/indexing.html#returning-a-view-versus-a-copy\n"
     ]
    }
   ],
   "source": [
    "# 1. Merge lat & long into a single string column \"lat_long\"\n",
    "serious_storms['lat_long'] = (\n",
    "    serious_storms['lat'].astype(str) + ' / ' + serious_storms['long'].astype(str)\n",
    ")\n",
    "\n",
    "# 2. Inspect the new column\n",
    "print(serious_storms[['lat', 'long', 'lat_long']].head())\n"
   ]
  },
  {
   "cell_type": "markdown",
   "id": "498023d2-3106-48b5-a275-fd804edede03",
   "metadata": {},
   "source": [
    "Let's return now to the original storms data frame. For each category, find the average wind speed, pressure and diameters (do not count the NA's in your averaging)."
   ]
  },
  {
   "cell_type": "code",
   "execution_count": 50,
   "id": "241e6e7f-d942-4b34-9c9b-2b694feaad83",
   "metadata": {},
   "outputs": [
    {
     "name": "stdout",
     "output_type": "stream",
     "text": [
      "   category    avg_wind  avg_pressure  avg_tropicalstorm_force_diameter  \\\n",
      "0         1   70.973312    981.198980                        247.917821   \n",
      "1         2   89.456193    967.311178                        254.631336   \n",
      "2         3  104.300169    954.531197                        260.927835   \n",
      "3         4  121.844485    940.019892                        268.148148   \n",
      "4         5  146.465517    918.172414                        260.307692   \n",
      "\n",
      "   avg_hurricane_force_diameter  \n",
      "0                     49.699908  \n",
      "1                     70.737327  \n",
      "2                     74.965636  \n",
      "3                     81.481481  \n",
      "4                     90.692308  \n"
     ]
    }
   ],
   "source": [
    "# Ensure 'category' is numeric (so non-hurricanes become NaN)\n",
    "storms['category'] = pd.to_numeric(storms['category'], errors='coerce')\n",
    "\n",
    "# Drop rows with missing category (so we only average actual Saffir–Simpson categories)\n",
    "storms_cat = storms.dropna(subset=['category'])\n",
    "\n",
    "# Group by category and compute means (skipna=True by default)\n",
    "category_summary = (\n",
    "    storms_cat.groupby('category', as_index=False)\n",
    "    .agg(\n",
    "        avg_wind=('wind', 'mean'),\n",
    "        avg_pressure=('pressure', 'mean'),\n",
    "        avg_tropicalstorm_force_diameter=('tropicalstorm_force_diameter', 'mean'),\n",
    "        avg_hurricane_force_diameter=('hurricane_force_diameter', 'mean')\n",
    "    )\n",
    ")\n",
    "\n",
    "# View the result\n",
    "print(category_summary)\n"
   ]
  },
  {
   "cell_type": "markdown",
   "id": "20a047ca-db58-49bf-a00d-7b7bf16fddca",
   "metadata": {},
   "source": [
    "For each named storm, find its maximum category, wind speed, pressure and diameters (do not allow the max to be NA) and the number of readings (i.e. observations)."
   ]
  },
  {
   "cell_type": "code",
   "execution_count": 51,
   "id": "2f85adb0-b9d9-4e74-944b-5f0de78c1b2f",
   "metadata": {},
   "outputs": [
    {
     "name": "stdout",
     "output_type": "stream",
     "text": [
      "     name  max_category  max_wind  max_pressure  max_tropicalstorm_diameter  \\\n",
      "0    Alex             3       105           986                       380.0   \n",
      "1  Arthur             2        85           987                       220.0   \n",
      "2   Barry             1        65           993                       220.0   \n",
      "3  Bertha             3       110          1001                       330.0   \n",
      "4   Beryl             1        70           995                        50.0   \n",
      "\n",
      "   max_hurricane_diameter  n_readings  \n",
      "0                    70.0          26  \n",
      "1                    90.0          11  \n",
      "2                    40.0           2  \n",
      "3                    75.0          34  \n",
      "4                    10.0           5  \n"
     ]
    }
   ],
   "source": [
    "import pandas as pd\n",
    "\n",
    "# 1. Load the raw storms data\n",
    "url = \"https://raw.githubusercontent.com/tidyverse/dplyr/master/data-raw/storms.csv\"\n",
    "storms = pd.read_csv(url)\n",
    "\n",
    "# 2. Coerce category to numeric (bad/missing → NaN)\n",
    "storms['category'] = pd.to_numeric(storms['category'], errors='coerce')\n",
    "\n",
    "# 3. Drop any rows where category, wind, pressure or either diameter is missing\n",
    "cols_to_keep = [\n",
    "    'category',\n",
    "    'wind',\n",
    "    'pressure',\n",
    "    'tropicalstorm_force_diameter',\n",
    "    'hurricane_force_diameter'\n",
    "]\n",
    "storms_clean = storms.dropna(subset=cols_to_keep)\n",
    "\n",
    "# 4. Now summarize per storm\n",
    "summary = storms_clean.groupby('name', as_index=False).agg(\n",
    "    max_category                 = ('category',                   'max'),\n",
    "    max_wind                     = ('wind',                       'max'),\n",
    "    max_pressure                 = ('pressure',                   'max'),\n",
    "    max_tropicalstorm_diameter   = ('tropicalstorm_force_diameter','max'),\n",
    "    max_hurricane_diameter       = ('hurricane_force_diameter',   'max'),\n",
    "    n_readings                   = ('name',                       'size')\n",
    ")\n",
    "\n",
    "# 5. If you want max_category as an integer:\n",
    "summary['max_category'] = summary['max_category'].astype(int)\n",
    "\n",
    "print(summary.head())"
   ]
  },
  {
   "cell_type": "markdown",
   "id": "bbd0e134-917f-42b4-a651-32285a95bacb",
   "metadata": {},
   "source": [
    "Calculate the distance from each storm observation to Miami in a new variable `distance_to_miami`. This is very challenging. You will need a function that computes distances from two sets of latitude / longitude coordinates. "
   ]
  },
  {
   "cell_type": "code",
   "execution_count": 52,
   "id": "2b7d87e7-2e9e-4a93-88a5-4b57e737a426",
   "metadata": {},
   "outputs": [
    {
     "name": "stdout",
     "output_type": "stream",
     "text": [
      "    lat  long  distance_to_miami_km  distance_to_miami_miles\n",
      "0  27.5 -79.0            226.699423               140.864447\n",
      "1  28.5 -79.0            326.521434               202.890950\n",
      "2  29.5 -79.0            431.932395               268.390264\n",
      "3  30.5 -79.0            539.667181               335.333536\n",
      "4  31.5 -78.8            652.346208               405.349016\n"
     ]
    }
   ],
   "source": [
    "#Define a vectorized Haversine function (returns distance in kilometers)\n",
    "def haversine(lat1, lon1, lat2, lon2):\n",
    "    \"\"\"\n",
    "    Calculate the great‐circle distance between two points \n",
    "    on the Earth (specified in decimal degrees) using the Haversine formula.\n",
    "    \"\"\"\n",
    "    # convert decimal degrees to radians \n",
    "    φ1, φ2 = np.radians(lat1), np.radians(lat2)\n",
    "    Δφ    = np.radians(lat2 - lat1)\n",
    "    Δλ    = np.radians(lon2 - lon1)\n",
    "\n",
    "    a = np.sin(Δφ/2)**2 + np.cos(φ1) * np.cos(φ2) * np.sin(Δλ/2)**2\n",
    "    c = 2 * np.arctan2(np.sqrt(a), np.sqrt(1 - a))\n",
    "    R = 6371  # Earth radius in kilometers\n",
    "    return R * c\n",
    "\n",
    "# 3. Miami’s coordinates\n",
    "miami_lat, miami_lon = 25.7617, -80.1918\n",
    "\n",
    "# 4. Compute distance for every observation\n",
    "storms['distance_to_miami_km'] = haversine(\n",
    "    storms['lat'], storms['long'],\n",
    "    miami_lat, miami_lon\n",
    "\n",
    ")\n",
    "\n",
    "#also in miles\n",
    "storms['distance_to_miami_miles'] = storms['distance_to_miami_km'] * 0.621371\n",
    "\n",
    "# 5. Verify\n",
    "print(storms[['lat','long','distance_to_miami_km','distance_to_miami_miles']].head())"
   ]
  },
  {
   "cell_type": "markdown",
   "id": "ef0731ce-dfc4-49ef-9f70-ecdbf0534a23",
   "metadata": {},
   "source": [
    "For each storm observation, use the function from the previous question to calculate the distance it moved since the previous observation."
   ]
  },
  {
   "cell_type": "code",
   "execution_count": 53,
   "id": "218aca14-3aa8-4b8f-9f0d-3a9091e94fe0",
   "metadata": {},
   "outputs": [
    {
     "name": "stdout",
     "output_type": "stream",
     "text": [
      "          name           timestamp  prev_lat  prev_long  distance_moved_km\n",
      "4544  AL011993 1993-05-31 12:00:00       NaN        NaN           0.000000\n",
      "4545  AL011993 1993-05-31 18:00:00      21.5      -84.0         224.695997\n",
      "4546  AL011993 1993-06-01 00:00:00      22.3      -82.0         201.004929\n",
      "4547  AL011993 1993-06-01 06:00:00      23.2      -80.3         195.892183\n",
      "4548  AL011993 1993-06-01 12:00:00      24.5      -79.0         181.338354\n"
     ]
    }
   ],
   "source": [
    "#Create a proper timestamp for ordering\n",
    "storms['timestamp'] = pd.to_datetime({\n",
    "    'year':  storms['year'],\n",
    "    'month': storms['month'],\n",
    "    'day':   storms['day'],\n",
    "    'hour':  storms['hour']\n",
    "})\n",
    "\n",
    "#Sort by storm name and time\n",
    "storms = storms.sort_values(['name', 'timestamp'])\n",
    "\n",
    "#Shift lat/long within each storm to get the previous observation\n",
    "storms['prev_lat']  = storms.groupby('name')['lat'].shift(1)\n",
    "storms['prev_long'] = storms.groupby('name')['long'].shift(1)\n",
    "\n",
    "#Compute distance moved since the previous observation\n",
    "storms['distance_moved_km'] = haversine(\n",
    "    storms['prev_lat'], storms['prev_long'] , storms['lat'] , storms['long']\n",
    "    \n",
    ")\n",
    "\n",
    "#Fill NaN for the first observation of each storm with 0\n",
    "storms['distance_moved_km'] = storms['distance_moved_km'].fillna(0)\n",
    "\n",
    "#Inspect the result\n",
    "print(storms[['name','timestamp','prev_lat','prev_long','distance_moved_km']].head())"
   ]
  },
  {
   "cell_type": "markdown",
   "id": "c2527af0-4251-4277-a3a6-65a20acbf424",
   "metadata": {},
   "source": [
    "For each storm, find the total distance it moved over its observations and its total displacement. \"Distance\" is a scalar quantity that refers to \"how much ground an object has covered\" during its motion. \"Displacement\" is a vector quantity that refers to \"how far out of place an object is\"; it is the object's overall change in position."
   ]
  },
  {
   "cell_type": "code",
   "execution_count": 55,
   "id": "144ebdaa-a1d8-4bb4-a642-192b92a6e68e",
   "metadata": {},
   "outputs": [
    {
     "name": "stdout",
     "output_type": "stream",
     "text": [
      "       name  total_distance_km  displacement_km\n",
      "0  AL011993        2080.702366      2046.444227\n",
      "1  AL012000         104.913658        56.500155\n",
      "2  AL021992         539.215150       514.510712\n",
      "3  AL021994         394.607894       386.002387\n",
      "4  AL021999         249.502307       240.890168\n"
     ]
    }
   ],
   "source": [
    "# Compute distance moved between consecutive observations\n",
    "storms['prev_lat'] = storms.groupby('name')['lat'].shift(1)\n",
    "storms['prev_long'] = storms.groupby('name')['long'].shift(1)\n",
    "storms['distance_moved_km'] = haversine(\n",
    "    storms['prev_lat'], storms['prev_long'],\n",
    "    storms['lat'], storms['long']\n",
    ").fillna(0)\n",
    "\n",
    "# Summarize per storm: total distance and displacement\n",
    "summary = (\n",
    "    storms\n",
    "    .groupby('name', as_index=False)\n",
    "    .agg(\n",
    "        total_distance_km = ('distance_moved_km', 'sum'),\n",
    "        start_lat         = ('lat',               'first'),\n",
    "        start_long        = ('long',              'first'),\n",
    "        end_lat           = ('lat',               'last'),\n",
    "        end_long          = ('long',              'last')\n",
    "    )\n",
    ")\n",
    "\n",
    "# Compute displacement (straight‐line distance from start to end)\n",
    "summary['displacement_km'] = haversine(\n",
    "   summary['start_lat'], summary['start_long'], summary['end_lat'], summary['end_long']\n",
    ")\n",
    "\n",
    "# Drop the start/end coords if you only want the metrics\n",
    "storm_movement = summary[['name', 'total_distance_km', 'displacement_km']]\n",
    "\n",
    "# Inspect the result\n",
    "print(storm_movement.head())\n"
   ]
  },
  {
   "cell_type": "markdown",
   "id": "9762059f-c0b2-4089-a111-4f799a86443e",
   "metadata": {},
   "source": [
    "For each storm observation, calculate the average speed the storm moved in location."
   ]
  },
  {
   "cell_type": "code",
   "execution_count": 57,
   "id": "952c2042-e1df-466f-b84a-c6efa0b59bf2",
   "metadata": {},
   "outputs": [
    {
     "name": "stdout",
     "output_type": "stream",
     "text": [
      "          name           timestamp  distance_km  time_diff_hour  avg_speed_kmh\n",
      "4544  AL011993 1993-05-31 12:00:00     0.000000             NaN            NaN\n",
      "4545  AL011993 1993-05-31 18:00:00   224.695997             6.0      37.449333\n",
      "4546  AL011993 1993-06-01 00:00:00   201.004929             6.0      33.500822\n",
      "4547  AL011993 1993-06-01 06:00:00   195.892183             6.0      32.648697\n",
      "4548  AL011993 1993-06-01 12:00:00   181.338354             6.0      30.223059\n",
      "4549  AL011993 1993-06-01 18:00:00   187.205886             6.0      31.200981\n",
      "4550  AL011993 1993-06-02 00:00:00   191.286528             6.0      31.881088\n",
      "4551  AL011993 1993-06-02 06:00:00   249.507927             6.0      41.584655\n",
      "4552  AL011993 1993-06-02 12:00:00   197.945985             6.0      32.990998\n",
      "4553  AL011993 1993-06-02 18:00:00   205.607405             6.0      34.267901\n"
     ]
    }
   ],
   "source": [
    "# Compute distance moved between consecutive observations\n",
    "storms['prev_lat'] = storms.groupby('name')['lat'].shift(1)\n",
    "storms['prev_long'] = storms.groupby('name')['long'].shift(1)\n",
    "storms['distance_km'] = haversine(\n",
    "    storms['prev_lat'], storms['prev_long'],\n",
    "    storms['lat'], storms['long']\n",
    ").fillna(0)\n",
    "\n",
    "# Compute time difference (in seconds) since previous observation\n",
    "storms['prev_time'] = storms.groupby('name')['timestamp'].shift(1)\n",
    "storms['time_diff_sec'] = (storms['timestamp'] - storms['prev_time']).dt.total_seconds()\n",
    "\n",
    "# Convert the time difference to hours\n",
    "storms['time_diff_hour'] = storms['time_diff_sec'] / 3600\n",
    "\n",
    "# Calculate average speed (km/h) for each observation\n",
    "storms['avg_speed_kmh'] = storms['distance_km'] / storms['time_diff_hour']\n",
    "\n",
    "# Handle the first observation of each storm (where time_diff_hour is 0)\n",
    "storms.loc[storms['time_diff_hour'] == 0, 'avg_speed_kmh'] = 0\n",
    "\n",
    "# Inspect the result\n",
    "print(storms[['name', 'timestamp', 'distance_km', 'time_diff_hour', 'avg_speed_kmh']].head(10))\n"
   ]
  },
  {
   "cell_type": "markdown",
   "id": "d246c8a1-58dd-4cb5-a407-7b04deddccd4",
   "metadata": {},
   "source": [
    "For each storm, calculate its average ground speed (how fast its eye is moving which is different from windspeed around the eye)."
   ]
  },
  {
   "cell_type": "code",
   "execution_count": 58,
   "id": "794dc7d6-cce5-4a32-9a74-172f3674f632",
   "metadata": {},
   "outputs": [
    {
     "name": "stdout",
     "output_type": "stream",
     "text": [
      "       name  avg_ground_speed_kmh\n",
      "0  AL011993             34.678373\n",
      "1  AL012000              5.828537\n",
      "2  AL021992             22.467298\n",
      "3  AL021994             16.441996\n",
      "4  AL021999             20.791859\n"
     ]
    }
   ],
   "source": [
    "# Group by storm name and sum the distance and time\n",
    "storm_movement = (\n",
    "    storms.groupby('name', as_index=False)\n",
    "    .agg(\n",
    "        total_distance_km = ('distance_km', 'sum'),\n",
    "        total_time_hr     = ('time_diff_hour', 'sum')\n",
    "    )\n",
    ")\n",
    "\n",
    "# Compute average ground speed (km/h) = total_distance / total_time\n",
    "storm_movement['avg_ground_speed_kmh'] = storm_movement['total_distance_km'] / storm_movement['total_time_hr']\n",
    "\n",
    "# Handle storms with only one observation (total_time_hr = 0) to avoid division by zero\n",
    "storm_movement.loc[storm_movement['total_time_hr'] == 0, 'avg_ground_speed_kmh'] = 0\n",
    "\n",
    "# Inspect the result\n",
    "print(storm_movement[['name', 'avg_ground_speed_kmh']].head())\n"
   ]
  },
  {
   "cell_type": "markdown",
   "id": "0f5be41e-99f1-4642-bbe9-9385314c9b85",
   "metadata": {},
   "source": [
    "Is there a relationship between average ground speed and maximum category attained? Use a dataframe summary (not a regression)."
   ]
  },
  {
   "cell_type": "code",
   "execution_count": 59,
   "id": "c1ee75a4-d72f-4921-8087-dc249a1d3489",
   "metadata": {},
   "outputs": [
    {
     "name": "stdout",
     "output_type": "stream",
     "text": [
      "   max_category  avg_ground_speed_kmh  storm_count\n",
      "0             0             16.534196           84\n",
      "1             1             11.403669           47\n",
      "2             2             10.135244           18\n",
      "3             3              3.697033           33\n",
      "4             4              6.742332           56\n",
      "5             5              9.255917           22\n"
     ]
    }
   ],
   "source": [
    "# Ensure 'category' is numeric\n",
    "storms['category'] = pd.to_numeric(storms['category'], errors='coerce').astype('Int64')\n",
    "\n",
    "# Compute maximum category per storm\n",
    "max_cat = (\n",
    "    storms\n",
    "    .groupby('name', as_index=False)\n",
    "    .agg(max_category=('category', 'max'))\n",
    "    .fillna(0)\n",
    ")\n",
    "\n",
    "# Convert max_category to integer\n",
    "max_cat['max_category'] = max_cat['max_category'].astype(int)\n",
    "\n",
    "# Merge average ground speed with max category\n",
    "df = max_cat.merge(storm_movement[['name', 'avg_ground_speed_kmh']], on='name', how='left')\n",
    "\n",
    "# Summarize the relationship by max_category\n",
    "relationship_summary = (\n",
    "    df.groupby('max_category', as_index=False)\n",
    "    .agg(\n",
    "        avg_ground_speed_kmh=('avg_ground_speed_kmh', 'mean'),\n",
    "        storm_count=('name', 'count')\n",
    "    )\n",
    ")\n",
    "\n",
    "print(relationship_summary)\n"
   ]
  },
  {
   "cell_type": "markdown",
   "id": "2497e888-f57b-429c-a088-54a56784161c",
   "metadata": {},
   "source": [
    "Now we want to transition to building real design matrices for prediction. This is more in tune with what happens in the real world. Large data dump and you convert it into $X$ and $y$ how you see fit.\n",
    "\n",
    "Suppose we wish to predict the following: given the first three readings of a storm, can you predict its maximum wind speed? Identify the `y` and identify which features you need $x_1, ... x_p$ and build that matrix with `dplyr` functions. This is not easy, but it is what it's all about. Feel free to \"featurize\" as creatively as you would like. You aren't going to overfit if you only build a few features relative to the total 198 storms."
   ]
  },
  {
   "cell_type": "code",
   "execution_count": 60,
   "id": "43acb482-33c9-49ed-8e35-089480a37167",
   "metadata": {},
   "outputs": [
    {
     "name": "stdout",
     "output_type": "stream",
     "text": [
      "X shape: (100, 6)\n",
      "y shape: (100,)\n",
      "\n",
      "First few rows of X:\n",
      "   wind_mean3  pressure_mean3  ts_diameter_mean3  hurr_diameter_mean3  \\\n",
      "0   80.000000      976.333333         141.666667            43.333333   \n",
      "1   71.666667      984.000000         140.000000            16.666667   \n",
      "2   81.666667      974.000000         160.000000            20.000000   \n",
      "3   68.333333      992.000000          50.000000            10.000000   \n",
      "4   73.333333      982.333333          96.666667            30.000000   \n",
      "\n",
      "   category_first  time_of_day_first_hr  \n",
      "0             1.0                     6  \n",
      "1             1.0                     0  \n",
      "2             1.0                     6  \n",
      "3             1.0                     6  \n",
      "4             1.0                     6  \n",
      "\n",
      "First few values of y:\n",
      "0    105\n",
      "1     85\n",
      "2    110\n",
      "3     70\n",
      "4    100\n",
      "Name: max_wind, dtype: int64\n"
     ]
    }
   ],
   "source": [
    "import pandas as pd\n",
    "import numpy as np\n",
    "\n",
    "#Load the raw storms data\n",
    "url = \"https://raw.githubusercontent.com/tidyverse/dplyr/master/data-raw/storms.csv\"\n",
    "storms = pd.read_csv(url)\n",
    "\n",
    "#Build a proper timestamp and coerce numeric columns\n",
    "storms['timestamp'] = pd.to_datetime({\n",
    "    'year':  storms['year'],\n",
    "    'month': storms['month'],\n",
    "    'day':   storms['day'],\n",
    "    'hour':  storms['hour']\n",
    "})\n",
    "storms['category'] = pd.to_numeric(storms['category'], errors='coerce')\n",
    "\n",
    "#Drop any observation missing category or either diameter\n",
    "storms_clean = storms.dropna(subset=[\n",
    "    'category',\n",
    "    'tropicalstorm_force_diameter',\n",
    "    'hurricane_force_diameter'\n",
    "]).copy()\n",
    "\n",
    "#Sort by storm name & time\n",
    "storms_clean = storms_clean.sort_values(['name','timestamp'])\n",
    "\n",
    "#Keep only storms with at least 3 readings\n",
    "counts = storms_clean.groupby('name').size()\n",
    "valid_storms = counts[counts >= 3].index\n",
    "storms_clean = storms_clean[storms_clean['name'].isin(valid_storms)]\n",
    "\n",
    "#Define the target y: maximum wind per storm\n",
    "y = (\n",
    "    storms_clean\n",
    "    .groupby('name')['wind']\n",
    "    .max()\n",
    "    .rename('max_wind')\n",
    ")\n",
    "\n",
    "#Feature engineering on the *first three* readings of each storm\n",
    "first3 = (\n",
    "    storms_clean\n",
    "    .groupby('name')\n",
    "    .head(3)\n",
    "    .reset_index(drop=True)\n",
    ")\n",
    "\n",
    "#Aggregate features from those first 3 readings\n",
    "features = (\n",
    "    first3\n",
    "    .groupby('name')\n",
    "    .agg(\n",
    "        wind_mean3            = ('wind',                         'mean'),\n",
    "        pressure_mean3        = ('pressure',                     'mean'),\n",
    "        ts_diameter_mean3     = ('tropicalstorm_force_diameter', 'mean'),\n",
    "        hurr_diameter_mean3   = ('hurricane_force_diameter',    'mean'),\n",
    "        category_first        = ('category',                     'first'),\n",
    "        time_of_day_first_hr  = ('timestamp', \n",
    "                                 lambda x: x.dt.hour.iloc[0])\n",
    "    )\n",
    ")\n",
    "\n",
    "#Merge X and y into one DataFrame\n",
    "data = features.merge(y, left_index=True, right_index=True)\n",
    "\n",
    "#Separate X and y\n",
    "X = data.drop(columns='max_wind')\n",
    "y = data['max_wind']\n",
    "\n",
    "#Reset index\n",
    "X = X.reset_index(drop=True)\n",
    "y = y.reset_index(drop=True)\n",
    "\n",
    "#Inspect shapes\n",
    "print(\"X shape:\", X.shape)\n",
    "print(\"y shape:\", y.shape)\n",
    "print(\"\\nFirst few rows of X:\")\n",
    "print(X.head())\n",
    "print(\"\\nFirst few values of y:\")\n",
    "print(y.head())"
   ]
  },
  {
   "cell_type": "markdown",
   "id": "f134581d-f3f2-455f-8566-7aba6a1ca2e7",
   "metadata": {},
   "source": [
    "Fit your model. Validate it."
   ]
  },
  {
   "cell_type": "code",
   "execution_count": 65,
   "id": "a27e0dd6-aea2-4cda-9bf8-3f8fa8bbb82e",
   "metadata": {},
   "outputs": [
    {
     "name": "stderr",
     "output_type": "stream",
     "text": [
      "\n",
      "A module that was compiled using NumPy 1.x cannot be run in\n",
      "NumPy 2.2.5 as it may crash. To support both 1.x and 2.x\n",
      "versions of NumPy, modules must be compiled with NumPy 2.0.\n",
      "Some module may need to rebuild instead e.g. with 'pybind11>=2.12'.\n",
      "\n",
      "If you are a user of the module, the easiest solution will be to\n",
      "downgrade to 'numpy<2' or try to upgrade the affected module.\n",
      "We expect that some modules will need time to support NumPy 2.\n",
      "\n",
      "Traceback (most recent call last):  File \"<frozen runpy>\", line 198, in _run_module_as_main\n",
      "  File \"<frozen runpy>\", line 88, in _run_code\n",
      "  File \"C:\\Users\\ilana brunner\\anaconda3\\Lib\\site-packages\\ipykernel_launcher.py\", line 18, in <module>\n",
      "    app.launch_new_instance()\n",
      "  File \"C:\\Users\\ilana brunner\\anaconda3\\Lib\\site-packages\\traitlets\\config\\application.py\", line 1075, in launch_instance\n",
      "    app.start()\n",
      "  File \"C:\\Users\\ilana brunner\\anaconda3\\Lib\\site-packages\\ipykernel\\kernelapp.py\", line 739, in start\n",
      "    self.io_loop.start()\n",
      "  File \"C:\\Users\\ilana brunner\\anaconda3\\Lib\\site-packages\\tornado\\platform\\asyncio.py\", line 205, in start\n",
      "    self.asyncio_loop.run_forever()\n",
      "  File \"C:\\Users\\ilana brunner\\anaconda3\\Lib\\asyncio\\base_events.py\", line 641, in run_forever\n",
      "    self._run_once()\n",
      "  File \"C:\\Users\\ilana brunner\\anaconda3\\Lib\\asyncio\\base_events.py\", line 1986, in _run_once\n",
      "    handle._run()\n",
      "  File \"C:\\Users\\ilana brunner\\anaconda3\\Lib\\asyncio\\events.py\", line 88, in _run\n",
      "    self._context.run(self._callback, *self._args)\n",
      "  File \"C:\\Users\\ilana brunner\\anaconda3\\Lib\\site-packages\\ipykernel\\kernelbase.py\", line 545, in dispatch_queue\n",
      "    await self.process_one()\n",
      "  File \"C:\\Users\\ilana brunner\\anaconda3\\Lib\\site-packages\\ipykernel\\kernelbase.py\", line 534, in process_one\n",
      "    await dispatch(*args)\n",
      "  File \"C:\\Users\\ilana brunner\\anaconda3\\Lib\\site-packages\\ipykernel\\kernelbase.py\", line 437, in dispatch_shell\n",
      "    await result\n",
      "  File \"C:\\Users\\ilana brunner\\anaconda3\\Lib\\site-packages\\ipykernel\\ipkernel.py\", line 362, in execute_request\n",
      "    await super().execute_request(stream, ident, parent)\n",
      "  File \"C:\\Users\\ilana brunner\\anaconda3\\Lib\\site-packages\\ipykernel\\kernelbase.py\", line 778, in execute_request\n",
      "    reply_content = await reply_content\n",
      "  File \"C:\\Users\\ilana brunner\\anaconda3\\Lib\\site-packages\\ipykernel\\ipkernel.py\", line 449, in do_execute\n",
      "    res = shell.run_cell(\n",
      "  File \"C:\\Users\\ilana brunner\\anaconda3\\Lib\\site-packages\\ipykernel\\zmqshell.py\", line 549, in run_cell\n",
      "    return super().run_cell(*args, **kwargs)\n",
      "  File \"C:\\Users\\ilana brunner\\anaconda3\\Lib\\site-packages\\IPython\\core\\interactiveshell.py\", line 3075, in run_cell\n",
      "    result = self._run_cell(\n",
      "  File \"C:\\Users\\ilana brunner\\anaconda3\\Lib\\site-packages\\IPython\\core\\interactiveshell.py\", line 3130, in _run_cell\n",
      "    result = runner(coro)\n",
      "  File \"C:\\Users\\ilana brunner\\anaconda3\\Lib\\site-packages\\IPython\\core\\async_helpers.py\", line 128, in _pseudo_sync_runner\n",
      "    coro.send(None)\n",
      "  File \"C:\\Users\\ilana brunner\\anaconda3\\Lib\\site-packages\\IPython\\core\\interactiveshell.py\", line 3334, in run_cell_async\n",
      "    has_raised = await self.run_ast_nodes(code_ast.body, cell_name,\n",
      "  File \"C:\\Users\\ilana brunner\\anaconda3\\Lib\\site-packages\\IPython\\core\\interactiveshell.py\", line 3517, in run_ast_nodes\n",
      "    if await self.run_code(code, result, async_=asy):\n",
      "  File \"C:\\Users\\ilana brunner\\anaconda3\\Lib\\site-packages\\IPython\\core\\interactiveshell.py\", line 3577, in run_code\n",
      "    exec(code_obj, self.user_global_ns, self.user_ns)\n",
      "  File \"C:\\Users\\ilana brunner\\AppData\\Local\\Temp\\ipykernel_24336\\3075463497.py\", line 1, in <module>\n",
      "    from sklearn.model_selection import train_test_split, cross_val_score\n",
      "  File \"C:\\Users\\ilana brunner\\anaconda3\\Lib\\site-packages\\sklearn\\__init__.py\", line 73, in <module>\n",
      "    from .base import clone  # noqa: E402\n",
      "  File \"C:\\Users\\ilana brunner\\anaconda3\\Lib\\site-packages\\sklearn\\base.py\", line 19, in <module>\n",
      "    from .utils._estimator_html_repr import _HTMLDocumentationLinkMixin, estimator_html_repr\n",
      "  File \"C:\\Users\\ilana brunner\\anaconda3\\Lib\\site-packages\\sklearn\\utils\\__init__.py\", line 15, in <module>\n",
      "    from ._chunking import gen_batches, gen_even_slices\n",
      "  File \"C:\\Users\\ilana brunner\\anaconda3\\Lib\\site-packages\\sklearn\\utils\\_chunking.py\", line 11, in <module>\n",
      "    from ._param_validation import Interval, validate_params\n",
      "  File \"C:\\Users\\ilana brunner\\anaconda3\\Lib\\site-packages\\sklearn\\utils\\_param_validation.py\", line 14, in <module>\n",
      "    from scipy.sparse import csr_matrix, issparse\n",
      "  File \"C:\\Users\\ilana brunner\\anaconda3\\Lib\\site-packages\\scipy\\sparse\\__init__.py\", line 274, in <module>\n",
      "    from ._csr import *\n",
      "  File \"C:\\Users\\ilana brunner\\anaconda3\\Lib\\site-packages\\scipy\\sparse\\_csr.py\", line 11, in <module>\n",
      "    from ._sparsetools import (csr_tocsc, csr_tobsr, csr_count_blocks,\n"
     ]
    },
    {
     "ename": "ImportError",
     "evalue": "\nA module that was compiled using NumPy 1.x cannot be run in\nNumPy 2.2.5 as it may crash. To support both 1.x and 2.x\nversions of NumPy, modules must be compiled with NumPy 2.0.\nSome module may need to rebuild instead e.g. with 'pybind11>=2.12'.\n\nIf you are a user of the module, the easiest solution will be to\ndowngrade to 'numpy<2' or try to upgrade the affected module.\nWe expect that some modules will need time to support NumPy 2.\n\n",
     "output_type": "error",
     "traceback": [
      "\u001b[1;31m---------------------------------------------------------------------------\u001b[0m",
      "\u001b[1;31mImportError\u001b[0m                               Traceback (most recent call last)",
      "File \u001b[1;32m~\\anaconda3\\Lib\\site-packages\\numpy\\core\\_multiarray_umath.py:44\u001b[0m, in \u001b[0;36m__getattr__\u001b[1;34m(attr_name)\u001b[0m\n\u001b[0;32m     39\u001b[0m     \u001b[38;5;66;03m# Also print the message (with traceback).  This is because old versions\u001b[39;00m\n\u001b[0;32m     40\u001b[0m     \u001b[38;5;66;03m# of NumPy unfortunately set up the import to replace (and hide) the\u001b[39;00m\n\u001b[0;32m     41\u001b[0m     \u001b[38;5;66;03m# error.  The traceback shouldn't be needed, but e.g. pytest plugins\u001b[39;00m\n\u001b[0;32m     42\u001b[0m     \u001b[38;5;66;03m# seem to swallow it and we should be failing anyway...\u001b[39;00m\n\u001b[0;32m     43\u001b[0m     sys\u001b[38;5;241m.\u001b[39mstderr\u001b[38;5;241m.\u001b[39mwrite(msg \u001b[38;5;241m+\u001b[39m tb_msg)\n\u001b[1;32m---> 44\u001b[0m     \u001b[38;5;28;01mraise\u001b[39;00m \u001b[38;5;167;01mImportError\u001b[39;00m(msg)\n\u001b[0;32m     46\u001b[0m ret \u001b[38;5;241m=\u001b[39m \u001b[38;5;28mgetattr\u001b[39m(_multiarray_umath, attr_name, \u001b[38;5;28;01mNone\u001b[39;00m)\n\u001b[0;32m     47\u001b[0m \u001b[38;5;28;01mif\u001b[39;00m ret \u001b[38;5;129;01mis\u001b[39;00m \u001b[38;5;28;01mNone\u001b[39;00m:\n",
      "\u001b[1;31mImportError\u001b[0m: \nA module that was compiled using NumPy 1.x cannot be run in\nNumPy 2.2.5 as it may crash. To support both 1.x and 2.x\nversions of NumPy, modules must be compiled with NumPy 2.0.\nSome module may need to rebuild instead e.g. with 'pybind11>=2.12'.\n\nIf you are a user of the module, the easiest solution will be to\ndowngrade to 'numpy<2' or try to upgrade the affected module.\nWe expect that some modules will need time to support NumPy 2.\n\n"
     ]
    },
    {
     "ename": "ImportError",
     "evalue": "numpy.core.multiarray failed to import",
     "output_type": "error",
     "traceback": [
      "\u001b[1;31m---------------------------------------------------------------------------\u001b[0m",
      "\u001b[1;31mImportError\u001b[0m                               Traceback (most recent call last)",
      "Cell \u001b[1;32mIn[65], line 1\u001b[0m\n\u001b[1;32m----> 1\u001b[0m \u001b[38;5;28;01mfrom\u001b[39;00m\u001b[38;5;250m \u001b[39m\u001b[38;5;21;01msklearn\u001b[39;00m\u001b[38;5;21;01m.\u001b[39;00m\u001b[38;5;21;01mmodel_selection\u001b[39;00m\u001b[38;5;250m \u001b[39m\u001b[38;5;28;01mimport\u001b[39;00m train_test_split, cross_val_score\n\u001b[0;32m      2\u001b[0m \u001b[38;5;28;01mfrom\u001b[39;00m\u001b[38;5;250m \u001b[39m\u001b[38;5;21;01msklearn\u001b[39;00m\u001b[38;5;21;01m.\u001b[39;00m\u001b[38;5;21;01mensemble\u001b[39;00m\u001b[38;5;250m \u001b[39m\u001b[38;5;28;01mimport\u001b[39;00m RandomForestRegressor\n\u001b[0;32m      3\u001b[0m \u001b[38;5;28;01mfrom\u001b[39;00m\u001b[38;5;250m \u001b[39m\u001b[38;5;21;01msklearn\u001b[39;00m\u001b[38;5;21;01m.\u001b[39;00m\u001b[38;5;21;01mmetrics\u001b[39;00m\u001b[38;5;250m \u001b[39m\u001b[38;5;28;01mimport\u001b[39;00m mean_squared_error, r2_score\n",
      "File \u001b[1;32m~\\anaconda3\\Lib\\site-packages\\sklearn\\__init__.py:73\u001b[0m\n\u001b[0;32m     68\u001b[0m if __SKLEARN_SETUP__:\n\u001b[0;32m     69\u001b[0m     sys.stderr.write(\"Partial import of sklearn during the build process.\\n\")\n\u001b[0;32m     70\u001b[0m     # We are not importing the rest of scikit-learn during the build\n\u001b[0;32m     71\u001b[0m     # process, as it may not be compiled yet\n\u001b[0;32m     72\u001b[0m else:\n\u001b[1;32m---> 73\u001b[0m     # `_distributor_init` allows distributors to run custom init code.\n\u001b[0;32m     74\u001b[0m     # For instance, for the Windows wheel, this is used to pre-load the\n\u001b[0;32m     75\u001b[0m     # vcomp shared library runtime for OpenMP embedded in the sklearn/.libs\n\u001b[0;32m     76\u001b[0m     # sub-folder.\n\u001b[0;32m     77\u001b[0m     # It is necessary to do this prior to importing show_versions as the\n\u001b[0;32m     78\u001b[0m     # later is linked to the OpenMP runtime to make it possible to introspect\n\u001b[0;32m     79\u001b[0m     # it and importing it first would fail if the OpenMP dll cannot be found.\n\u001b[0;32m     80\u001b[0m     from . import (\n\u001b[0;32m     81\u001b[0m         __check_build,  # noqa: F401\n\u001b[0;32m     82\u001b[0m         _distributor_init,  # noqa: F401\n\u001b[0;32m     83\u001b[0m     )\n\u001b[0;32m     84\u001b[0m     from .base import clone\n",
      "File \u001b[1;32m~\\anaconda3\\Lib\\site-packages\\sklearn\\base.py:19\u001b[0m\n\u001b[0;32m     17\u001b[0m \u001b[38;5;28;01mfrom\u001b[39;00m\u001b[38;5;250m \u001b[39m\u001b[38;5;21;01m.\u001b[39;00m\u001b[38;5;21;01m_config\u001b[39;00m\u001b[38;5;250m \u001b[39m\u001b[38;5;28;01mimport\u001b[39;00m config_context, get_config\n\u001b[0;32m     18\u001b[0m \u001b[38;5;28;01mfrom\u001b[39;00m\u001b[38;5;250m \u001b[39m\u001b[38;5;21;01m.\u001b[39;00m\u001b[38;5;21;01mexceptions\u001b[39;00m\u001b[38;5;250m \u001b[39m\u001b[38;5;28;01mimport\u001b[39;00m InconsistentVersionWarning\n\u001b[1;32m---> 19\u001b[0m \u001b[38;5;28;01mfrom\u001b[39;00m\u001b[38;5;250m \u001b[39m\u001b[38;5;21;01m.\u001b[39;00m\u001b[38;5;21;01mutils\u001b[39;00m\u001b[38;5;21;01m.\u001b[39;00m\u001b[38;5;21;01m_estimator_html_repr\u001b[39;00m\u001b[38;5;250m \u001b[39m\u001b[38;5;28;01mimport\u001b[39;00m _HTMLDocumentationLinkMixin, estimator_html_repr\n\u001b[0;32m     20\u001b[0m \u001b[38;5;28;01mfrom\u001b[39;00m\u001b[38;5;250m \u001b[39m\u001b[38;5;21;01m.\u001b[39;00m\u001b[38;5;21;01mutils\u001b[39;00m\u001b[38;5;21;01m.\u001b[39;00m\u001b[38;5;21;01m_metadata_requests\u001b[39;00m\u001b[38;5;250m \u001b[39m\u001b[38;5;28;01mimport\u001b[39;00m _MetadataRequester, _routing_enabled\n\u001b[0;32m     21\u001b[0m \u001b[38;5;28;01mfrom\u001b[39;00m\u001b[38;5;250m \u001b[39m\u001b[38;5;21;01m.\u001b[39;00m\u001b[38;5;21;01mutils\u001b[39;00m\u001b[38;5;21;01m.\u001b[39;00m\u001b[38;5;21;01m_param_validation\u001b[39;00m\u001b[38;5;250m \u001b[39m\u001b[38;5;28;01mimport\u001b[39;00m validate_parameter_constraints\n",
      "File \u001b[1;32m~\\anaconda3\\Lib\\site-packages\\sklearn\\utils\\__init__.py:15\u001b[0m\n\u001b[0;32m     11\u001b[0m from ._chunking import gen_batches, gen_even_slices\n\u001b[0;32m     12\u001b[0m from ._estimator_html_repr import estimator_html_repr\n\u001b[0;32m     14\u001b[0m # Make _safe_indexing importable from here for backward compat as this particular\n\u001b[1;32m---> 15\u001b[0m # helper is considered semi-private and typically very useful for third-party\n\u001b[0;32m     16\u001b[0m # libraries that want to comply with scikit-learn's estimator API. In particular,\n\u001b[0;32m     17\u001b[0m # _safe_indexing was included in our public API documentation despite the leading\n\u001b[0;32m     18\u001b[0m # `_` in its name.\n\u001b[0;32m     19\u001b[0m from ._indexing import (\n\u001b[0;32m     20\u001b[0m     _safe_indexing,  # noqa\n\u001b[0;32m     21\u001b[0m     resample,\n\u001b[0;32m     22\u001b[0m     shuffle,\n\u001b[0;32m     23\u001b[0m )\n\u001b[0;32m     24\u001b[0m from ._mask import safe_mask\n",
      "File \u001b[1;32m~\\anaconda3\\Lib\\site-packages\\sklearn\\utils\\_chunking.py:11\u001b[0m\n\u001b[0;32m      7\u001b[0m \u001b[38;5;28;01mfrom\u001b[39;00m\u001b[38;5;250m \u001b[39m\u001b[38;5;21;01m.\u001b[39;00m\u001b[38;5;21;01m.\u001b[39;00m\u001b[38;5;21;01m_config\u001b[39;00m\u001b[38;5;250m \u001b[39m\u001b[38;5;28;01mimport\u001b[39;00m get_config\n\u001b[0;32m      8\u001b[0m \u001b[38;5;28;01mfrom\u001b[39;00m\u001b[38;5;250m \u001b[39m\u001b[38;5;21;01m.\u001b[39;00m\u001b[38;5;21;01m_param_validation\u001b[39;00m\u001b[38;5;250m \u001b[39m\u001b[38;5;28;01mimport\u001b[39;00m Interval, validate_params\n\u001b[1;32m---> 11\u001b[0m \u001b[38;5;28;01mdef\u001b[39;00m\u001b[38;5;250m \u001b[39m\u001b[38;5;21mchunk_generator\u001b[39m(gen, chunksize):\n\u001b[0;32m     12\u001b[0m \u001b[38;5;250m    \u001b[39m\u001b[38;5;124;03m\"\"\"Chunk generator, ``gen`` into lists of length ``chunksize``. The last\u001b[39;00m\n\u001b[0;32m     13\u001b[0m \u001b[38;5;124;03m    chunk may have a length less than ``chunksize``.\"\"\"\u001b[39;00m\n\u001b[0;32m     14\u001b[0m     \u001b[38;5;28;01mwhile\u001b[39;00m \u001b[38;5;28;01mTrue\u001b[39;00m:\n",
      "File \u001b[1;32m~\\anaconda3\\Lib\\site-packages\\sklearn\\utils\\_param_validation.py:14\u001b[0m\n\u001b[0;32m     11\u001b[0m \u001b[38;5;28;01mfrom\u001b[39;00m\u001b[38;5;250m \u001b[39m\u001b[38;5;21;01mscipy\u001b[39;00m\u001b[38;5;21;01m.\u001b[39;00m\u001b[38;5;21;01msparse\u001b[39;00m\u001b[38;5;250m \u001b[39m\u001b[38;5;28;01mimport\u001b[39;00m csr_matrix, issparse\n\u001b[0;32m     13\u001b[0m \u001b[38;5;28;01mfrom\u001b[39;00m\u001b[38;5;250m \u001b[39m\u001b[38;5;21;01m.\u001b[39;00m\u001b[38;5;21;01m.\u001b[39;00m\u001b[38;5;21;01m_config\u001b[39;00m\u001b[38;5;250m \u001b[39m\u001b[38;5;28;01mimport\u001b[39;00m config_context, get_config\n\u001b[1;32m---> 14\u001b[0m \u001b[38;5;28;01mfrom\u001b[39;00m\u001b[38;5;250m \u001b[39m\u001b[38;5;21;01m.\u001b[39;00m\u001b[38;5;21;01mvalidation\u001b[39;00m\u001b[38;5;250m \u001b[39m\u001b[38;5;28;01mimport\u001b[39;00m _is_arraylike_not_scalar\n\u001b[0;32m     17\u001b[0m \u001b[38;5;28;01mclass\u001b[39;00m\u001b[38;5;250m \u001b[39m\u001b[38;5;21;01mInvalidParameterError\u001b[39;00m(\u001b[38;5;167;01mValueError\u001b[39;00m, \u001b[38;5;167;01mTypeError\u001b[39;00m):\n\u001b[0;32m     18\u001b[0m \u001b[38;5;250m    \u001b[39m\u001b[38;5;124;03m\"\"\"Custom exception to be raised when the parameter of a class/method/function\u001b[39;00m\n\u001b[0;32m     19\u001b[0m \u001b[38;5;124;03m    does not have a valid type or value.\u001b[39;00m\n\u001b[0;32m     20\u001b[0m \u001b[38;5;124;03m    \"\"\"\u001b[39;00m\n",
      "File \u001b[1;32m~\\anaconda3\\Lib\\site-packages\\scipy\\sparse\\__init__.py:274\u001b[0m\n\u001b[0;32m    271\u001b[0m \u001b[38;5;28;01mimport\u001b[39;00m\u001b[38;5;250m \u001b[39m\u001b[38;5;21;01mwarnings\u001b[39;00m\u001b[38;5;250m \u001b[39m\u001b[38;5;28;01mas\u001b[39;00m\u001b[38;5;250m \u001b[39m\u001b[38;5;21;01m_warnings\u001b[39;00m\n\u001b[0;32m    273\u001b[0m \u001b[38;5;28;01mfrom\u001b[39;00m\u001b[38;5;250m \u001b[39m\u001b[38;5;21;01m.\u001b[39;00m\u001b[38;5;21;01m_base\u001b[39;00m\u001b[38;5;250m \u001b[39m\u001b[38;5;28;01mimport\u001b[39;00m \u001b[38;5;241m*\u001b[39m\n\u001b[1;32m--> 274\u001b[0m \u001b[38;5;28;01mfrom\u001b[39;00m\u001b[38;5;250m \u001b[39m\u001b[38;5;21;01m.\u001b[39;00m\u001b[38;5;21;01m_csr\u001b[39;00m\u001b[38;5;250m \u001b[39m\u001b[38;5;28;01mimport\u001b[39;00m \u001b[38;5;241m*\u001b[39m\n\u001b[0;32m    275\u001b[0m \u001b[38;5;28;01mfrom\u001b[39;00m\u001b[38;5;250m \u001b[39m\u001b[38;5;21;01m.\u001b[39;00m\u001b[38;5;21;01m_csc\u001b[39;00m\u001b[38;5;250m \u001b[39m\u001b[38;5;28;01mimport\u001b[39;00m \u001b[38;5;241m*\u001b[39m\n\u001b[0;32m    276\u001b[0m \u001b[38;5;28;01mfrom\u001b[39;00m\u001b[38;5;250m \u001b[39m\u001b[38;5;21;01m.\u001b[39;00m\u001b[38;5;21;01m_lil\u001b[39;00m\u001b[38;5;250m \u001b[39m\u001b[38;5;28;01mimport\u001b[39;00m \u001b[38;5;241m*\u001b[39m\n",
      "File \u001b[1;32m~\\anaconda3\\Lib\\site-packages\\scipy\\sparse\\_csr.py:11\u001b[0m\n\u001b[0;32m      9\u001b[0m \u001b[38;5;28;01mfrom\u001b[39;00m\u001b[38;5;250m \u001b[39m\u001b[38;5;21;01m.\u001b[39;00m\u001b[38;5;21;01m_matrix\u001b[39;00m\u001b[38;5;250m \u001b[39m\u001b[38;5;28;01mimport\u001b[39;00m spmatrix, _array_doc_to_matrix\n\u001b[0;32m     10\u001b[0m \u001b[38;5;28;01mfrom\u001b[39;00m\u001b[38;5;250m \u001b[39m\u001b[38;5;21;01m.\u001b[39;00m\u001b[38;5;21;01m_base\u001b[39;00m\u001b[38;5;250m \u001b[39m\u001b[38;5;28;01mimport\u001b[39;00m _spbase, sparray\n\u001b[1;32m---> 11\u001b[0m \u001b[38;5;28;01mfrom\u001b[39;00m\u001b[38;5;250m \u001b[39m\u001b[38;5;21;01m.\u001b[39;00m\u001b[38;5;21;01m_sparsetools\u001b[39;00m\u001b[38;5;250m \u001b[39m\u001b[38;5;28;01mimport\u001b[39;00m (csr_tocsc, csr_tobsr, csr_count_blocks,\n\u001b[0;32m     12\u001b[0m                            get_csr_submatrix)\n\u001b[0;32m     13\u001b[0m \u001b[38;5;28;01mfrom\u001b[39;00m\u001b[38;5;250m \u001b[39m\u001b[38;5;21;01m.\u001b[39;00m\u001b[38;5;21;01m_sputils\u001b[39;00m\u001b[38;5;250m \u001b[39m\u001b[38;5;28;01mimport\u001b[39;00m upcast\n\u001b[0;32m     15\u001b[0m \u001b[38;5;28;01mfrom\u001b[39;00m\u001b[38;5;250m \u001b[39m\u001b[38;5;21;01m.\u001b[39;00m\u001b[38;5;21;01m_compressed\u001b[39;00m\u001b[38;5;250m \u001b[39m\u001b[38;5;28;01mimport\u001b[39;00m _cs_matrix\n",
      "\u001b[1;31mImportError\u001b[0m: numpy.core.multiarray failed to import"
     ]
    }
   ],
   "source": [
    "from sklearn.model_selection import train_test_split, cross_val_score\n",
    "from sklearn.ensemble import RandomForestRegressor\n",
    "from sklearn.metrics import mean_squared_error, r2_score\n",
    "\n",
    "# Split into train & test sets (80% train, 20% test)\n",
    "X_train, X_test, y_train, y_test = train_test_split(X, y, test_size=0.2, random_state=42)\n",
    "\n",
    "# Instantiate the model\n",
    "model = RandomForestRegressor(n_estimators=100, random_state=42)\n",
    "\n",
    "# Fit on the training data\n",
    "model.fit(X_train, y_train)\n",
    "\n",
    "# Predict on the test set\n",
    "y_pred = model.predict(X_test)\n",
    "\n",
    "# Evaluate performance\n",
    "mse = mean_squared_error(y_test, y_pred)\n",
    "r2 = r2_score(y_test, y_pred)\n",
    "print(f\"Test MSE:  {mse:.2f}\")\n",
    "print(f\"Test R²:   {r2:.2f}\")\n",
    "\n",
    "# Cross-validate (5-fold) on the full dataset. We'll look at both MSE and R²\n",
    "cv_mse_scores = -cross_val_score(model, X, y, cv=5, scoring='neg_mean_squared_error')\n",
    "cv_r2_scores = cross_val_score(model, X, y, cv=5, scoring='r2')\n",
    "\n",
    "print(\"\\n5-Fold CV results:\")\n",
    "print(f\"Mean CV MSE:  {cv_mse_scores.mean():.2f} ± {cv_mse_scores.std():.2f}\")\n",
    "print(f\"Mean CV R²:   {cv_r2_scores.mean():.2f} ± {cv_r2_scores.std():.2f}\")\n"
   ]
  },
  {
   "cell_type": "markdown",
   "id": "5a87e4fe-e067-4ca5-9c68-d6ebef8cb50d",
   "metadata": {},
   "source": [
    "Assess your level of success at this endeavor."
   ]
  },
  {
   "cell_type": "markdown",
   "id": "d50a1e10-6ecd-452b-844e-294c242ab729",
   "metadata": {},
   "source": []
  },
  {
   "cell_type": "markdown",
   "id": "76e030ab-357f-4ed6-9fd3-737670d095b0",
   "metadata": {},
   "source": [
    "# More data munging with table joins"
   ]
  },
  {
   "cell_type": "markdown",
   "id": "9de3ea0f-82b8-41c5-8362-008c89a84985",
   "metadata": {},
   "source": [
    "We will be using the `storms` dataset from the `dplyr` package. Filter this dataset on all storms that have no missing measurements for the two diameter variables, \"tropicalstorm_force_diameter\" and \"hurricane_force_diameter\". Zeroes count as missing as well."
   ]
  },
  {
   "cell_type": "code",
   "execution_count": 66,
   "id": "54864ba1-f1ca-4207-8391-48e7e87ab3ea",
   "metadata": {},
   "outputs": [
    {
     "name": "stdout",
     "output_type": "stream",
     "text": [
      "Kept 2265 rows out of 19537\n",
      "   tropicalstorm_force_diameter  hurricane_force_diameter\n",
      "0                         130.0                      40.0\n",
      "1                         130.0                      40.0\n",
      "2                         165.0                      50.0\n",
      "3                         155.0                      55.0\n",
      "4                         195.0                      65.0\n"
     ]
    }
   ],
   "source": [
    "import pandas as pd\n",
    "\n",
    "#Load the storms data from dplyr’s GitHub\n",
    "url = (\n",
    "    \"https://raw.githubusercontent.com/\"\n",
    "    \"tidyverse/dplyr/master/data-raw/storms.csv\"\n",
    ")\n",
    "storms = pd.read_csv(url)\n",
    "\n",
    "#Filter out rows where either diameter is missing or zero\n",
    "filtered = storms.loc[\n",
    "    storms['tropicalstorm_force_diameter'].notna()\n",
    "    & (storms['tropicalstorm_force_diameter'] != 0)\n",
    "    & storms['hurricane_force_diameter'].notna()\n",
    "    & (storms['hurricane_force_diameter'] != 0)\n",
    "].reset_index(drop=True)\n",
    "\n",
    "#Inspect the result\n",
    "print(f\"Kept {len(filtered)} rows out of {len(storms)}\")\n",
    "print(filtered[['tropicalstorm_force_diameter','hurricane_force_diameter']].head())"
   ]
  },
  {
   "cell_type": "markdown",
   "id": "7af8ae9c-5b5b-41b8-987f-eaa1e3d74bdd",
   "metadata": {},
   "source": [
    "From this subset, create a data frame that only has storm name, observation period number for each storm (i.e., 1, 2, ..., T) and the \"tropicalstorm_force_diameter\" and \"hurricane_force_diameter\" metrics."
   ]
  },
  {
   "cell_type": "code",
   "execution_count": 67,
   "id": "cb355857-c610-4168-b3b6-036400605fb9",
   "metadata": {},
   "outputs": [
    {
     "name": "stdout",
     "output_type": "stream",
     "text": [
      "   name  period  tropicalstorm_force_diameter  hurricane_force_diameter\n",
      "0  Alex       1                         130.0                      40.0\n",
      "1  Alex       2                         130.0                      40.0\n",
      "2  Alex       3                         165.0                      50.0\n",
      "3  Alex       4                         155.0                      55.0\n",
      "4  Alex       5                         195.0                      65.0\n",
      "5  Alex       6                         195.0                      65.0\n",
      "6  Alex       7                         225.0                      65.0\n",
      "7  Alex       8                         225.0                      70.0\n",
      "8  Alex       9                         300.0                      70.0\n",
      "9  Alex      10                         380.0                      70.0\n"
     ]
    }
   ],
   "source": [
    "import pandas as pd\n",
    "\n",
    "# Create a timestamp from year, month, day, and hour\n",
    "filtered['timestamp'] = pd.to_datetime({\n",
    "    'year':  filtered['year'],\n",
    "    'month': filtered['month'],\n",
    "    'day':   filtered['day'],\n",
    "    'hour':  filtered['hour']\n",
    "})\n",
    "\n",
    "# Sort by storm name and timestamp\n",
    "filtered = filtered.sort_values(by=['name', 'timestamp'])\n",
    "\n",
    "# Assign an observation period number within each storm\n",
    "filtered['period'] = filtered.groupby('name').cumcount() + 1\n",
    "\n",
    "# Select only the desired columns\n",
    "result = filtered[[\n",
    "    'name',\n",
    "    'period',\n",
    "    'tropicalstorm_force_diameter',\n",
    "    'hurricane_force_diameter'\n",
    "]]\n",
    "\n",
    "# Inspect the result\n",
    "print(result.head(10))\n"
   ]
  },
  {
   "cell_type": "markdown",
   "id": "22c3600d-0612-463a-85a7-140697d4f6c1",
   "metadata": {},
   "source": [
    "Create a data frame in long format with columns \"diameter\" for the measurement and \"diameter_type\" which will be categorical taking on the values \"hu\" or \"ts\"."
   ]
  },
  {
   "cell_type": "code",
   "execution_count": 68,
   "id": "e53a1a0d-a7b6-49a3-a324-61c68f3ce5f8",
   "metadata": {},
   "outputs": [
    {
     "name": "stdout",
     "output_type": "stream",
     "text": [
      "   name  period diameter_type  diameter\n",
      "0  Alex       1            ts     130.0\n",
      "1  Alex       2            ts     130.0\n",
      "2  Alex       3            ts     165.0\n",
      "3  Alex       4            ts     155.0\n",
      "4  Alex       5            ts     195.0\n"
     ]
    }
   ],
   "source": [
    "# Melt into long format\n",
    "long_df = result.melt(\n",
    "    id_vars=['name', 'period'],  # Keep 'name' and 'period' as identifier variables\n",
    "    value_vars=['tropicalstorm_force_diameter', 'hurricane_force_diameter'],  # Columns to melt\n",
    "    var_name='diameter_type',  # Name for the new 'diameter_type' column\n",
    "    value_name='diameter'  # Name for the new 'diameter' column\n",
    ")\n",
    "\n",
    "# Map the column names to 'ts' and 'hu' and make it categorical\n",
    "long_df['diameter_type'] = long_df['diameter_type'].map({\n",
    "    'tropicalstorm_force_diameter': 'ts',\n",
    "    'hurricane_force_diameter':     'hu'\n",
    "}).astype(pd.CategoricalDtype(categories=['ts', 'hu']))\n",
    "\n",
    "# Inspect the result\n",
    "print(long_df.head())\n"
   ]
  },
  {
   "cell_type": "markdown",
   "id": "93656f54-772d-480b-8fe9-e7d94695ad8a",
   "metadata": {},
   "source": [
    "Using this long-formatted data frame, use a line plot to illustrate both \"tropicalstorm_force_diameter\" and \"hurricane_force_diameter\" metrics by observation period for four random storms using a 2x2 faceting. The two diameters should appear in two different colors and there should be an appropriate legend."
   ]
  },
  {
   "cell_type": "code",
   "execution_count": 70,
   "id": "f24e5c0b-73b9-4aa0-b1c8-8c729a3a3c48",
   "metadata": {},
   "outputs": [
    {
     "name": "stderr",
     "output_type": "stream",
     "text": [
      "\n",
      "A module that was compiled using NumPy 1.x cannot be run in\n",
      "NumPy 2.2.5 as it may crash. To support both 1.x and 2.x\n",
      "versions of NumPy, modules must be compiled with NumPy 2.0.\n",
      "Some module may need to rebuild instead e.g. with 'pybind11>=2.12'.\n",
      "\n",
      "If you are a user of the module, the easiest solution will be to\n",
      "downgrade to 'numpy<2' or try to upgrade the affected module.\n",
      "We expect that some modules will need time to support NumPy 2.\n",
      "\n",
      "Traceback (most recent call last):  File \"<frozen runpy>\", line 198, in _run_module_as_main\n",
      "  File \"<frozen runpy>\", line 88, in _run_code\n",
      "  File \"C:\\Users\\ilana brunner\\anaconda3\\Lib\\site-packages\\ipykernel_launcher.py\", line 18, in <module>\n",
      "    app.launch_new_instance()\n",
      "  File \"C:\\Users\\ilana brunner\\anaconda3\\Lib\\site-packages\\traitlets\\config\\application.py\", line 1075, in launch_instance\n",
      "    app.start()\n",
      "  File \"C:\\Users\\ilana brunner\\anaconda3\\Lib\\site-packages\\ipykernel\\kernelapp.py\", line 739, in start\n",
      "    self.io_loop.start()\n",
      "  File \"C:\\Users\\ilana brunner\\anaconda3\\Lib\\site-packages\\tornado\\platform\\asyncio.py\", line 205, in start\n",
      "    self.asyncio_loop.run_forever()\n",
      "  File \"C:\\Users\\ilana brunner\\anaconda3\\Lib\\asyncio\\base_events.py\", line 641, in run_forever\n",
      "    self._run_once()\n",
      "  File \"C:\\Users\\ilana brunner\\anaconda3\\Lib\\asyncio\\base_events.py\", line 1986, in _run_once\n",
      "    handle._run()\n",
      "  File \"C:\\Users\\ilana brunner\\anaconda3\\Lib\\asyncio\\events.py\", line 88, in _run\n",
      "    self._context.run(self._callback, *self._args)\n",
      "  File \"C:\\Users\\ilana brunner\\anaconda3\\Lib\\site-packages\\ipykernel\\kernelbase.py\", line 545, in dispatch_queue\n",
      "    await self.process_one()\n",
      "  File \"C:\\Users\\ilana brunner\\anaconda3\\Lib\\site-packages\\ipykernel\\kernelbase.py\", line 534, in process_one\n",
      "    await dispatch(*args)\n",
      "  File \"C:\\Users\\ilana brunner\\anaconda3\\Lib\\site-packages\\ipykernel\\kernelbase.py\", line 437, in dispatch_shell\n",
      "    await result\n",
      "  File \"C:\\Users\\ilana brunner\\anaconda3\\Lib\\site-packages\\ipykernel\\ipkernel.py\", line 362, in execute_request\n",
      "    await super().execute_request(stream, ident, parent)\n",
      "  File \"C:\\Users\\ilana brunner\\anaconda3\\Lib\\site-packages\\ipykernel\\kernelbase.py\", line 778, in execute_request\n",
      "    reply_content = await reply_content\n",
      "  File \"C:\\Users\\ilana brunner\\anaconda3\\Lib\\site-packages\\ipykernel\\ipkernel.py\", line 449, in do_execute\n",
      "    res = shell.run_cell(\n",
      "  File \"C:\\Users\\ilana brunner\\anaconda3\\Lib\\site-packages\\ipykernel\\zmqshell.py\", line 549, in run_cell\n",
      "    return super().run_cell(*args, **kwargs)\n",
      "  File \"C:\\Users\\ilana brunner\\anaconda3\\Lib\\site-packages\\IPython\\core\\interactiveshell.py\", line 3075, in run_cell\n",
      "    result = self._run_cell(\n",
      "  File \"C:\\Users\\ilana brunner\\anaconda3\\Lib\\site-packages\\IPython\\core\\interactiveshell.py\", line 3130, in _run_cell\n",
      "    result = runner(coro)\n",
      "  File \"C:\\Users\\ilana brunner\\anaconda3\\Lib\\site-packages\\IPython\\core\\async_helpers.py\", line 128, in _pseudo_sync_runner\n",
      "    coro.send(None)\n",
      "  File \"C:\\Users\\ilana brunner\\anaconda3\\Lib\\site-packages\\IPython\\core\\interactiveshell.py\", line 3334, in run_cell_async\n",
      "    has_raised = await self.run_ast_nodes(code_ast.body, cell_name,\n",
      "  File \"C:\\Users\\ilana brunner\\anaconda3\\Lib\\site-packages\\IPython\\core\\interactiveshell.py\", line 3517, in run_ast_nodes\n",
      "    if await self.run_code(code, result, async_=asy):\n",
      "  File \"C:\\Users\\ilana brunner\\anaconda3\\Lib\\site-packages\\IPython\\core\\interactiveshell.py\", line 3577, in run_code\n",
      "    exec(code_obj, self.user_global_ns, self.user_ns)\n",
      "  File \"C:\\Users\\ilana brunner\\AppData\\Local\\Temp\\ipykernel_24336\\597224764.py\", line 32, in <module>\n",
      "    plot\n",
      "  File \"C:\\Users\\ilana brunner\\anaconda3\\Lib\\site-packages\\IPython\\core\\displayhook.py\", line 268, in __call__\n",
      "    format_dict, md_dict = self.compute_format_data(result)\n",
      "  File \"C:\\Users\\ilana brunner\\anaconda3\\Lib\\site-packages\\IPython\\core\\displayhook.py\", line 157, in compute_format_data\n",
      "    return self.shell.display_formatter.format(result)\n",
      "  File \"C:\\Users\\ilana brunner\\anaconda3\\Lib\\site-packages\\IPython\\core\\formatters.py\", line 148, in format\n",
      "    if self.ipython_display_formatter(obj):\n",
      "  File \"C:\\Users\\ilana brunner\\anaconda3\\Lib\\site-packages\\decorator.py\", line 232, in fun\n",
      "    return caller(func, *(extras + args), **kw)\n",
      "  File \"C:\\Users\\ilana brunner\\anaconda3\\Lib\\site-packages\\IPython\\core\\formatters.py\", line 226, in catch_format_error\n",
      "    r = method(self, *args, **kwargs)\n",
      "  File \"C:\\Users\\ilana brunner\\anaconda3\\Lib\\site-packages\\IPython\\core\\formatters.py\", line 925, in __call__\n",
      "    method()\n",
      "  File \"C:\\Users\\ilana brunner\\anaconda3\\Lib\\site-packages\\plotnine\\ggplot.py\", line 141, in _ipython_display_\n",
      "    self._display()\n",
      "  File \"C:\\Users\\ilana brunner\\anaconda3\\Lib\\site-packages\\plotnine\\ggplot.py\", line 181, in _display\n",
      "    self.save(buf, format=save_format, verbose=False)\n",
      "  File \"C:\\Users\\ilana brunner\\anaconda3\\Lib\\site-packages\\plotnine\\ggplot.py\", line 673, in save\n",
      "    sv = self.save_helper(\n",
      "  File \"C:\\Users\\ilana brunner\\anaconda3\\Lib\\site-packages\\plotnine\\ggplot.py\", line 621, in save_helper\n",
      "    figure = self.draw(show=False)\n",
      "  File \"C:\\Users\\ilana brunner\\anaconda3\\Lib\\site-packages\\plotnine\\ggplot.py\", line 265, in draw\n",
      "    from ._mpl.layout_engine import PlotnineLayoutEngine\n",
      "  File \"C:\\Users\\ilana brunner\\anaconda3\\Lib\\site-packages\\plotnine\\_mpl\\layout_engine.py\", line 6, in <module>\n",
      "    from matplotlib.layout_engine import LayoutEngine\n",
      "  File \"C:\\Users\\ilana brunner\\anaconda3\\Lib\\site-packages\\matplotlib\\__init__.py\", line 159, in <module>\n",
      "    from . import _api, _version, cbook, _docstring, rcsetup\n",
      "  File \"C:\\Users\\ilana brunner\\anaconda3\\Lib\\site-packages\\matplotlib\\rcsetup.py\", line 28, in <module>\n",
      "    from matplotlib.colors import Colormap, is_color_like\n",
      "  File \"C:\\Users\\ilana brunner\\anaconda3\\Lib\\site-packages\\matplotlib\\colors.py\", line 57, in <module>\n",
      "    from matplotlib import _api, _cm, cbook, scale\n",
      "  File \"C:\\Users\\ilana brunner\\anaconda3\\Lib\\site-packages\\matplotlib\\scale.py\", line 22, in <module>\n",
      "    from matplotlib.ticker import (\n",
      "  File \"C:\\Users\\ilana brunner\\anaconda3\\Lib\\site-packages\\matplotlib\\ticker.py\", line 144, in <module>\n",
      "    from matplotlib import transforms as mtransforms\n",
      "  File \"C:\\Users\\ilana brunner\\anaconda3\\Lib\\site-packages\\matplotlib\\transforms.py\", line 49, in <module>\n",
      "    from matplotlib._path import (\n"
     ]
    },
    {
     "ename": "ImportError",
     "evalue": "\nA module that was compiled using NumPy 1.x cannot be run in\nNumPy 2.2.5 as it may crash. To support both 1.x and 2.x\nversions of NumPy, modules must be compiled with NumPy 2.0.\nSome module may need to rebuild instead e.g. with 'pybind11>=2.12'.\n\nIf you are a user of the module, the easiest solution will be to\ndowngrade to 'numpy<2' or try to upgrade the affected module.\nWe expect that some modules will need time to support NumPy 2.\n\n",
     "output_type": "error",
     "traceback": [
      "\u001b[1;31m---------------------------------------------------------------------------\u001b[0m",
      "\u001b[1;31mImportError\u001b[0m                               Traceback (most recent call last)",
      "File \u001b[1;32m~\\anaconda3\\Lib\\site-packages\\numpy\\core\\_multiarray_umath.py:44\u001b[0m, in \u001b[0;36m__getattr__\u001b[1;34m(attr_name)\u001b[0m\n\u001b[0;32m     39\u001b[0m     \u001b[38;5;66;03m# Also print the message (with traceback).  This is because old versions\u001b[39;00m\n\u001b[0;32m     40\u001b[0m     \u001b[38;5;66;03m# of NumPy unfortunately set up the import to replace (and hide) the\u001b[39;00m\n\u001b[0;32m     41\u001b[0m     \u001b[38;5;66;03m# error.  The traceback shouldn't be needed, but e.g. pytest plugins\u001b[39;00m\n\u001b[0;32m     42\u001b[0m     \u001b[38;5;66;03m# seem to swallow it and we should be failing anyway...\u001b[39;00m\n\u001b[0;32m     43\u001b[0m     sys\u001b[38;5;241m.\u001b[39mstderr\u001b[38;5;241m.\u001b[39mwrite(msg \u001b[38;5;241m+\u001b[39m tb_msg)\n\u001b[1;32m---> 44\u001b[0m     \u001b[38;5;28;01mraise\u001b[39;00m \u001b[38;5;167;01mImportError\u001b[39;00m(msg)\n\u001b[0;32m     46\u001b[0m ret \u001b[38;5;241m=\u001b[39m \u001b[38;5;28mgetattr\u001b[39m(_multiarray_umath, attr_name, \u001b[38;5;28;01mNone\u001b[39;00m)\n\u001b[0;32m     47\u001b[0m \u001b[38;5;28;01mif\u001b[39;00m ret \u001b[38;5;129;01mis\u001b[39;00m \u001b[38;5;28;01mNone\u001b[39;00m:\n",
      "\u001b[1;31mImportError\u001b[0m: \nA module that was compiled using NumPy 1.x cannot be run in\nNumPy 2.2.5 as it may crash. To support both 1.x and 2.x\nversions of NumPy, modules must be compiled with NumPy 2.0.\nSome module may need to rebuild instead e.g. with 'pybind11>=2.12'.\n\nIf you are a user of the module, the easiest solution will be to\ndowngrade to 'numpy<2' or try to upgrade the affected module.\nWe expect that some modules will need time to support NumPy 2.\n\n"
     ]
    },
    {
     "ename": "ImportError",
     "evalue": "initialization failed",
     "output_type": "error",
     "traceback": [
      "\u001b[1;31m---------------------------------------------------------------------------\u001b[0m",
      "\u001b[1;31mImportError\u001b[0m                               Traceback (most recent call last)",
      "\u001b[1;31mImportError\u001b[0m: numpy.core.multiarray failed to import",
      "\nThe above exception was the direct cause of the following exception:\n",
      "\u001b[1;31mImportError\u001b[0m                               Traceback (most recent call last)",
      "File \u001b[1;32m~\\anaconda3\\Lib\\site-packages\\IPython\\core\\formatters.py:925\u001b[0m, in \u001b[0;36mIPythonDisplayFormatter.__call__\u001b[1;34m(self, obj)\u001b[0m\n\u001b[0;32m    923\u001b[0m method \u001b[38;5;241m=\u001b[39m get_real_method(obj, \u001b[38;5;28mself\u001b[39m\u001b[38;5;241m.\u001b[39mprint_method)\n\u001b[0;32m    924\u001b[0m \u001b[38;5;28;01mif\u001b[39;00m method \u001b[38;5;129;01mis\u001b[39;00m \u001b[38;5;129;01mnot\u001b[39;00m \u001b[38;5;28;01mNone\u001b[39;00m:\n\u001b[1;32m--> 925\u001b[0m     method()\n\u001b[0;32m    926\u001b[0m     \u001b[38;5;28;01mreturn\u001b[39;00m \u001b[38;5;28;01mTrue\u001b[39;00m\n",
      "File \u001b[1;32m~\\anaconda3\\Lib\\site-packages\\plotnine\\ggplot.py:141\u001b[0m, in \u001b[0;36mggplot._ipython_display_\u001b[1;34m(self)\u001b[0m\n\u001b[0;32m    134\u001b[0m \u001b[38;5;28;01mdef\u001b[39;00m\u001b[38;5;250m \u001b[39m\u001b[38;5;21m_ipython_display_\u001b[39m(\u001b[38;5;28mself\u001b[39m):\n\u001b[0;32m    135\u001b[0m \u001b[38;5;250m    \u001b[39m\u001b[38;5;124;03m\"\"\"\u001b[39;00m\n\u001b[0;32m    136\u001b[0m \u001b[38;5;124;03m    Display plot in the output of the cell\u001b[39;00m\n\u001b[0;32m    137\u001b[0m \n\u001b[0;32m    138\u001b[0m \u001b[38;5;124;03m    This method will always be called when a ggplot object is the\u001b[39;00m\n\u001b[0;32m    139\u001b[0m \u001b[38;5;124;03m    last in the cell.\u001b[39;00m\n\u001b[0;32m    140\u001b[0m \u001b[38;5;124;03m    \"\"\"\u001b[39;00m\n\u001b[1;32m--> 141\u001b[0m     \u001b[38;5;28mself\u001b[39m\u001b[38;5;241m.\u001b[39m_display()\n",
      "File \u001b[1;32m~\\anaconda3\\Lib\\site-packages\\plotnine\\ggplot.py:181\u001b[0m, in \u001b[0;36mggplot._display\u001b[1;34m(self)\u001b[0m\n\u001b[0;32m    179\u001b[0m figure_size_px \u001b[38;5;241m=\u001b[39m \u001b[38;5;28mself\u001b[39m\u001b[38;5;241m.\u001b[39mtheme\u001b[38;5;241m.\u001b[39m_figure_size_px\n\u001b[0;32m    180\u001b[0m buf \u001b[38;5;241m=\u001b[39m BytesIO()\n\u001b[1;32m--> 181\u001b[0m \u001b[38;5;28mself\u001b[39m\u001b[38;5;241m.\u001b[39msave(buf, \u001b[38;5;28mformat\u001b[39m\u001b[38;5;241m=\u001b[39msave_format, verbose\u001b[38;5;241m=\u001b[39m\u001b[38;5;28;01mFalse\u001b[39;00m)\n\u001b[0;32m    182\u001b[0m display_func \u001b[38;5;241m=\u001b[39m get_display_function(\u001b[38;5;28mformat\u001b[39m, figure_size_px)\n\u001b[0;32m    183\u001b[0m display_func(buf\u001b[38;5;241m.\u001b[39mgetvalue())\n",
      "File \u001b[1;32m~\\anaconda3\\Lib\\site-packages\\plotnine\\ggplot.py:673\u001b[0m, in \u001b[0;36mggplot.save\u001b[1;34m(self, filename, format, path, width, height, units, dpi, limitsize, verbose, **kwargs)\u001b[0m\n\u001b[0;32m    624\u001b[0m \u001b[38;5;28;01mdef\u001b[39;00m\u001b[38;5;250m \u001b[39m\u001b[38;5;21msave\u001b[39m(\n\u001b[0;32m    625\u001b[0m     \u001b[38;5;28mself\u001b[39m,\n\u001b[0;32m    626\u001b[0m     filename: Optional[\u001b[38;5;28mstr\u001b[39m \u001b[38;5;241m|\u001b[39m Path \u001b[38;5;241m|\u001b[39m BytesIO] \u001b[38;5;241m=\u001b[39m \u001b[38;5;28;01mNone\u001b[39;00m,\n\u001b[1;32m   (...)\u001b[0m\n\u001b[0;32m    635\u001b[0m     \u001b[38;5;241m*\u001b[39m\u001b[38;5;241m*\u001b[39mkwargs: Any,\n\u001b[0;32m    636\u001b[0m ):\n\u001b[0;32m    637\u001b[0m \u001b[38;5;250m    \u001b[39m\u001b[38;5;124;03m\"\"\"\u001b[39;00m\n\u001b[0;32m    638\u001b[0m \u001b[38;5;124;03m    Save a ggplot object as an image file\u001b[39;00m\n\u001b[0;32m    639\u001b[0m \n\u001b[1;32m   (...)\u001b[0m\n\u001b[0;32m    671\u001b[0m \u001b[38;5;124;03m        Additional arguments to pass to matplotlib `savefig()`.\u001b[39;00m\n\u001b[0;32m    672\u001b[0m \u001b[38;5;124;03m    \"\"\"\u001b[39;00m\n\u001b[1;32m--> 673\u001b[0m     sv \u001b[38;5;241m=\u001b[39m \u001b[38;5;28mself\u001b[39m\u001b[38;5;241m.\u001b[39msave_helper(\n\u001b[0;32m    674\u001b[0m         filename\u001b[38;5;241m=\u001b[39mfilename,\n\u001b[0;32m    675\u001b[0m         \u001b[38;5;28mformat\u001b[39m\u001b[38;5;241m=\u001b[39m\u001b[38;5;28mformat\u001b[39m,\n\u001b[0;32m    676\u001b[0m         path\u001b[38;5;241m=\u001b[39mpath,\n\u001b[0;32m    677\u001b[0m         width\u001b[38;5;241m=\u001b[39mwidth,\n\u001b[0;32m    678\u001b[0m         height\u001b[38;5;241m=\u001b[39mheight,\n\u001b[0;32m    679\u001b[0m         units\u001b[38;5;241m=\u001b[39munits,\n\u001b[0;32m    680\u001b[0m         dpi\u001b[38;5;241m=\u001b[39mdpi,\n\u001b[0;32m    681\u001b[0m         limitsize\u001b[38;5;241m=\u001b[39mlimitsize,\n\u001b[0;32m    682\u001b[0m         verbose\u001b[38;5;241m=\u001b[39mverbose,\n\u001b[0;32m    683\u001b[0m         \u001b[38;5;241m*\u001b[39m\u001b[38;5;241m*\u001b[39mkwargs,\n\u001b[0;32m    684\u001b[0m     )\n\u001b[0;32m    686\u001b[0m     \u001b[38;5;28;01mwith\u001b[39;00m plot_context(\u001b[38;5;28mself\u001b[39m)\u001b[38;5;241m.\u001b[39mrc_context:\n\u001b[0;32m    687\u001b[0m         sv\u001b[38;5;241m.\u001b[39mfigure\u001b[38;5;241m.\u001b[39msavefig(\u001b[38;5;241m*\u001b[39m\u001b[38;5;241m*\u001b[39msv\u001b[38;5;241m.\u001b[39mkwargs)\n",
      "File \u001b[1;32m~\\anaconda3\\Lib\\site-packages\\plotnine\\ggplot.py:621\u001b[0m, in \u001b[0;36mggplot.save_helper\u001b[1;34m(self, filename, format, path, width, height, units, dpi, limitsize, verbose, **kwargs)\u001b[0m\n\u001b[0;32m    618\u001b[0m \u001b[38;5;28;01mif\u001b[39;00m dpi \u001b[38;5;129;01mis\u001b[39;00m \u001b[38;5;129;01mnot\u001b[39;00m \u001b[38;5;28;01mNone\u001b[39;00m:\n\u001b[0;32m    619\u001b[0m     \u001b[38;5;28mself\u001b[39m\u001b[38;5;241m.\u001b[39mtheme \u001b[38;5;241m=\u001b[39m \u001b[38;5;28mself\u001b[39m\u001b[38;5;241m.\u001b[39mtheme \u001b[38;5;241m+\u001b[39m theme(dpi\u001b[38;5;241m=\u001b[39mdpi)\n\u001b[1;32m--> 621\u001b[0m figure \u001b[38;5;241m=\u001b[39m \u001b[38;5;28mself\u001b[39m\u001b[38;5;241m.\u001b[39mdraw(show\u001b[38;5;241m=\u001b[39m\u001b[38;5;28;01mFalse\u001b[39;00m)\n\u001b[0;32m    622\u001b[0m \u001b[38;5;28;01mreturn\u001b[39;00m mpl_save_view(figure, fig_kwargs)\n",
      "File \u001b[1;32m~\\anaconda3\\Lib\\site-packages\\plotnine\\ggplot.py:265\u001b[0m, in \u001b[0;36mggplot.draw\u001b[1;34m(self, show)\u001b[0m\n\u001b[0;32m    251\u001b[0m \u001b[38;5;28;01mdef\u001b[39;00m\u001b[38;5;250m \u001b[39m\u001b[38;5;21mdraw\u001b[39m(\u001b[38;5;28mself\u001b[39m, show: \u001b[38;5;28mbool\u001b[39m \u001b[38;5;241m=\u001b[39m \u001b[38;5;28;01mFalse\u001b[39;00m) \u001b[38;5;241m-\u001b[39m\u001b[38;5;241m>\u001b[39m Figure:\n\u001b[0;32m    252\u001b[0m \u001b[38;5;250m    \u001b[39m\u001b[38;5;124;03m\"\"\"\u001b[39;00m\n\u001b[0;32m    253\u001b[0m \u001b[38;5;124;03m    Render the complete plot\u001b[39;00m\n\u001b[0;32m    254\u001b[0m \n\u001b[1;32m   (...)\u001b[0m\n\u001b[0;32m    263\u001b[0m \u001b[38;5;124;03m        Matplotlib figure\u001b[39;00m\n\u001b[0;32m    264\u001b[0m \u001b[38;5;124;03m    \"\"\"\u001b[39;00m\n\u001b[1;32m--> 265\u001b[0m     \u001b[38;5;28;01mfrom\u001b[39;00m\u001b[38;5;250m \u001b[39m\u001b[38;5;21;01m.\u001b[39;00m\u001b[38;5;21;01m_mpl\u001b[39;00m\u001b[38;5;21;01m.\u001b[39;00m\u001b[38;5;21;01mlayout_engine\u001b[39;00m\u001b[38;5;250m \u001b[39m\u001b[38;5;28;01mimport\u001b[39;00m PlotnineLayoutEngine\n\u001b[0;32m    267\u001b[0m     \u001b[38;5;66;03m# Do not draw if drawn already.\u001b[39;00m\n\u001b[0;32m    268\u001b[0m     \u001b[38;5;66;03m# This prevents a needless error when reusing\u001b[39;00m\n\u001b[0;32m    269\u001b[0m     \u001b[38;5;66;03m# figure & axes in the jupyter notebook.\u001b[39;00m\n\u001b[0;32m    270\u001b[0m     \u001b[38;5;28;01mif\u001b[39;00m \u001b[38;5;28mhasattr\u001b[39m(\u001b[38;5;28mself\u001b[39m, \u001b[38;5;124m\"\u001b[39m\u001b[38;5;124mfigure\u001b[39m\u001b[38;5;124m\"\u001b[39m):\n",
      "File \u001b[1;32m~\\anaconda3\\Lib\\site-packages\\plotnine\\_mpl\\layout_engine.py:6\u001b[0m\n\u001b[0;32m      3\u001b[0m \u001b[38;5;28;01mimport\u001b[39;00m\u001b[38;5;250m \u001b[39m\u001b[38;5;21;01mtyping\u001b[39;00m\n\u001b[0;32m      4\u001b[0m \u001b[38;5;28;01mfrom\u001b[39;00m\u001b[38;5;250m \u001b[39m\u001b[38;5;21;01mdataclasses\u001b[39;00m\u001b[38;5;250m \u001b[39m\u001b[38;5;28;01mimport\u001b[39;00m asdict, dataclass\n\u001b[1;32m----> 6\u001b[0m \u001b[38;5;28;01mfrom\u001b[39;00m\u001b[38;5;250m \u001b[39m\u001b[38;5;21;01mmatplotlib\u001b[39;00m\u001b[38;5;21;01m.\u001b[39;00m\u001b[38;5;21;01mlayout_engine\u001b[39;00m\u001b[38;5;250m \u001b[39m\u001b[38;5;28;01mimport\u001b[39;00m LayoutEngine\n\u001b[0;32m      7\u001b[0m \u001b[38;5;28;01mfrom\u001b[39;00m\u001b[38;5;250m \u001b[39m\u001b[38;5;21;01mmatplotlib\u001b[39;00m\u001b[38;5;21;01m.\u001b[39;00m\u001b[38;5;21;01mtext\u001b[39;00m\u001b[38;5;250m \u001b[39m\u001b[38;5;28;01mimport\u001b[39;00m Text\n\u001b[0;32m      9\u001b[0m \u001b[38;5;28;01mif\u001b[39;00m typing\u001b[38;5;241m.\u001b[39mTYPE_CHECKING:\n",
      "File \u001b[1;32m~\\anaconda3\\Lib\\site-packages\\matplotlib\\__init__.py:159\u001b[0m\n\u001b[0;32m    155\u001b[0m \u001b[38;5;28;01mfrom\u001b[39;00m\u001b[38;5;250m \u001b[39m\u001b[38;5;21;01mpackaging\u001b[39;00m\u001b[38;5;21;01m.\u001b[39;00m\u001b[38;5;21;01mversion\u001b[39;00m\u001b[38;5;250m \u001b[39m\u001b[38;5;28;01mimport\u001b[39;00m parse \u001b[38;5;28;01mas\u001b[39;00m parse_version\n\u001b[0;32m    157\u001b[0m \u001b[38;5;66;03m# cbook must import matplotlib only within function\u001b[39;00m\n\u001b[0;32m    158\u001b[0m \u001b[38;5;66;03m# definitions, so it is safe to import from it here.\u001b[39;00m\n\u001b[1;32m--> 159\u001b[0m \u001b[38;5;28;01mfrom\u001b[39;00m\u001b[38;5;250m \u001b[39m\u001b[38;5;21;01m.\u001b[39;00m\u001b[38;5;250m \u001b[39m\u001b[38;5;28;01mimport\u001b[39;00m _api, _version, cbook, _docstring, rcsetup\n\u001b[0;32m    160\u001b[0m \u001b[38;5;28;01mfrom\u001b[39;00m\u001b[38;5;250m \u001b[39m\u001b[38;5;21;01mmatplotlib\u001b[39;00m\u001b[38;5;21;01m.\u001b[39;00m\u001b[38;5;21;01mcbook\u001b[39;00m\u001b[38;5;250m \u001b[39m\u001b[38;5;28;01mimport\u001b[39;00m sanitize_sequence\n\u001b[0;32m    161\u001b[0m \u001b[38;5;28;01mfrom\u001b[39;00m\u001b[38;5;250m \u001b[39m\u001b[38;5;21;01mmatplotlib\u001b[39;00m\u001b[38;5;21;01m.\u001b[39;00m\u001b[38;5;21;01m_api\u001b[39;00m\u001b[38;5;250m \u001b[39m\u001b[38;5;28;01mimport\u001b[39;00m MatplotlibDeprecationWarning\n",
      "File \u001b[1;32m~\\anaconda3\\Lib\\site-packages\\matplotlib\\rcsetup.py:28\u001b[0m\n\u001b[0;32m     26\u001b[0m \u001b[38;5;28;01mfrom\u001b[39;00m\u001b[38;5;250m \u001b[39m\u001b[38;5;21;01mmatplotlib\u001b[39;00m\u001b[38;5;21;01m.\u001b[39;00m\u001b[38;5;21;01mbackends\u001b[39;00m\u001b[38;5;250m \u001b[39m\u001b[38;5;28;01mimport\u001b[39;00m BackendFilter, backend_registry\n\u001b[0;32m     27\u001b[0m \u001b[38;5;28;01mfrom\u001b[39;00m\u001b[38;5;250m \u001b[39m\u001b[38;5;21;01mmatplotlib\u001b[39;00m\u001b[38;5;21;01m.\u001b[39;00m\u001b[38;5;21;01mcbook\u001b[39;00m\u001b[38;5;250m \u001b[39m\u001b[38;5;28;01mimport\u001b[39;00m ls_mapper\n\u001b[1;32m---> 28\u001b[0m \u001b[38;5;28;01mfrom\u001b[39;00m\u001b[38;5;250m \u001b[39m\u001b[38;5;21;01mmatplotlib\u001b[39;00m\u001b[38;5;21;01m.\u001b[39;00m\u001b[38;5;21;01mcolors\u001b[39;00m\u001b[38;5;250m \u001b[39m\u001b[38;5;28;01mimport\u001b[39;00m Colormap, is_color_like\n\u001b[0;32m     29\u001b[0m \u001b[38;5;28;01mfrom\u001b[39;00m\u001b[38;5;250m \u001b[39m\u001b[38;5;21;01mmatplotlib\u001b[39;00m\u001b[38;5;21;01m.\u001b[39;00m\u001b[38;5;21;01m_fontconfig_pattern\u001b[39;00m\u001b[38;5;250m \u001b[39m\u001b[38;5;28;01mimport\u001b[39;00m parse_fontconfig_pattern\n\u001b[0;32m     30\u001b[0m \u001b[38;5;28;01mfrom\u001b[39;00m\u001b[38;5;250m \u001b[39m\u001b[38;5;21;01mmatplotlib\u001b[39;00m\u001b[38;5;21;01m.\u001b[39;00m\u001b[38;5;21;01m_enums\u001b[39;00m\u001b[38;5;250m \u001b[39m\u001b[38;5;28;01mimport\u001b[39;00m JoinStyle, CapStyle\n",
      "File \u001b[1;32m~\\anaconda3\\Lib\\site-packages\\matplotlib\\colors.py:57\u001b[0m\n\u001b[0;32m     55\u001b[0m \u001b[38;5;28;01mimport\u001b[39;00m\u001b[38;5;250m \u001b[39m\u001b[38;5;21;01mmatplotlib\u001b[39;00m\u001b[38;5;250m \u001b[39m\u001b[38;5;28;01mas\u001b[39;00m\u001b[38;5;250m \u001b[39m\u001b[38;5;21;01mmpl\u001b[39;00m\n\u001b[0;32m     56\u001b[0m \u001b[38;5;28;01mimport\u001b[39;00m\u001b[38;5;250m \u001b[39m\u001b[38;5;21;01mnumpy\u001b[39;00m\u001b[38;5;250m \u001b[39m\u001b[38;5;28;01mas\u001b[39;00m\u001b[38;5;250m \u001b[39m\u001b[38;5;21;01mnp\u001b[39;00m\n\u001b[1;32m---> 57\u001b[0m \u001b[38;5;28;01mfrom\u001b[39;00m\u001b[38;5;250m \u001b[39m\u001b[38;5;21;01mmatplotlib\u001b[39;00m\u001b[38;5;250m \u001b[39m\u001b[38;5;28;01mimport\u001b[39;00m _api, _cm, cbook, scale\n\u001b[0;32m     58\u001b[0m \u001b[38;5;28;01mfrom\u001b[39;00m\u001b[38;5;250m \u001b[39m\u001b[38;5;21;01m.\u001b[39;00m\u001b[38;5;21;01m_color_data\u001b[39;00m\u001b[38;5;250m \u001b[39m\u001b[38;5;28;01mimport\u001b[39;00m BASE_COLORS, TABLEAU_COLORS, CSS4_COLORS, XKCD_COLORS\n\u001b[0;32m     61\u001b[0m \u001b[38;5;28;01mclass\u001b[39;00m\u001b[38;5;250m \u001b[39m\u001b[38;5;21;01m_ColorMapping\u001b[39;00m(\u001b[38;5;28mdict\u001b[39m):\n",
      "File \u001b[1;32m~\\anaconda3\\Lib\\site-packages\\matplotlib\\scale.py:22\u001b[0m\n\u001b[0;32m     20\u001b[0m \u001b[38;5;28;01mimport\u001b[39;00m\u001b[38;5;250m \u001b[39m\u001b[38;5;21;01mmatplotlib\u001b[39;00m\u001b[38;5;250m \u001b[39m\u001b[38;5;28;01mas\u001b[39;00m\u001b[38;5;250m \u001b[39m\u001b[38;5;21;01mmpl\u001b[39;00m\n\u001b[0;32m     21\u001b[0m \u001b[38;5;28;01mfrom\u001b[39;00m\u001b[38;5;250m \u001b[39m\u001b[38;5;21;01mmatplotlib\u001b[39;00m\u001b[38;5;250m \u001b[39m\u001b[38;5;28;01mimport\u001b[39;00m _api, _docstring\n\u001b[1;32m---> 22\u001b[0m \u001b[38;5;28;01mfrom\u001b[39;00m\u001b[38;5;250m \u001b[39m\u001b[38;5;21;01mmatplotlib\u001b[39;00m\u001b[38;5;21;01m.\u001b[39;00m\u001b[38;5;21;01mticker\u001b[39;00m\u001b[38;5;250m \u001b[39m\u001b[38;5;28;01mimport\u001b[39;00m (\n\u001b[0;32m     23\u001b[0m     NullFormatter, ScalarFormatter, LogFormatterSciNotation, LogitFormatter,\n\u001b[0;32m     24\u001b[0m     NullLocator, LogLocator, AutoLocator, AutoMinorLocator,\n\u001b[0;32m     25\u001b[0m     SymmetricalLogLocator, AsinhLocator, LogitLocator)\n\u001b[0;32m     26\u001b[0m \u001b[38;5;28;01mfrom\u001b[39;00m\u001b[38;5;250m \u001b[39m\u001b[38;5;21;01mmatplotlib\u001b[39;00m\u001b[38;5;21;01m.\u001b[39;00m\u001b[38;5;21;01mtransforms\u001b[39;00m\u001b[38;5;250m \u001b[39m\u001b[38;5;28;01mimport\u001b[39;00m Transform, IdentityTransform\n\u001b[0;32m     29\u001b[0m \u001b[38;5;28;01mclass\u001b[39;00m\u001b[38;5;250m \u001b[39m\u001b[38;5;21;01mScaleBase\u001b[39;00m:\n",
      "File \u001b[1;32m~\\anaconda3\\Lib\\site-packages\\matplotlib\\ticker.py:144\u001b[0m\n\u001b[0;32m    142\u001b[0m \u001b[38;5;28;01mimport\u001b[39;00m\u001b[38;5;250m \u001b[39m\u001b[38;5;21;01mmatplotlib\u001b[39;00m\u001b[38;5;250m \u001b[39m\u001b[38;5;28;01mas\u001b[39;00m\u001b[38;5;250m \u001b[39m\u001b[38;5;21;01mmpl\u001b[39;00m\n\u001b[0;32m    143\u001b[0m \u001b[38;5;28;01mfrom\u001b[39;00m\u001b[38;5;250m \u001b[39m\u001b[38;5;21;01mmatplotlib\u001b[39;00m\u001b[38;5;250m \u001b[39m\u001b[38;5;28;01mimport\u001b[39;00m _api, cbook\n\u001b[1;32m--> 144\u001b[0m \u001b[38;5;28;01mfrom\u001b[39;00m\u001b[38;5;250m \u001b[39m\u001b[38;5;21;01mmatplotlib\u001b[39;00m\u001b[38;5;250m \u001b[39m\u001b[38;5;28;01mimport\u001b[39;00m transforms \u001b[38;5;28;01mas\u001b[39;00m mtransforms\n\u001b[0;32m    146\u001b[0m _log \u001b[38;5;241m=\u001b[39m logging\u001b[38;5;241m.\u001b[39mgetLogger(\u001b[38;5;18m__name__\u001b[39m)\n\u001b[0;32m    148\u001b[0m __all__ \u001b[38;5;241m=\u001b[39m (\u001b[38;5;124m'\u001b[39m\u001b[38;5;124mTickHelper\u001b[39m\u001b[38;5;124m'\u001b[39m, \u001b[38;5;124m'\u001b[39m\u001b[38;5;124mFormatter\u001b[39m\u001b[38;5;124m'\u001b[39m, \u001b[38;5;124m'\u001b[39m\u001b[38;5;124mFixedFormatter\u001b[39m\u001b[38;5;124m'\u001b[39m,\n\u001b[0;32m    149\u001b[0m            \u001b[38;5;124m'\u001b[39m\u001b[38;5;124mNullFormatter\u001b[39m\u001b[38;5;124m'\u001b[39m, \u001b[38;5;124m'\u001b[39m\u001b[38;5;124mFuncFormatter\u001b[39m\u001b[38;5;124m'\u001b[39m, \u001b[38;5;124m'\u001b[39m\u001b[38;5;124mFormatStrFormatter\u001b[39m\u001b[38;5;124m'\u001b[39m,\n\u001b[0;32m    150\u001b[0m            \u001b[38;5;124m'\u001b[39m\u001b[38;5;124mStrMethodFormatter\u001b[39m\u001b[38;5;124m'\u001b[39m, \u001b[38;5;124m'\u001b[39m\u001b[38;5;124mScalarFormatter\u001b[39m\u001b[38;5;124m'\u001b[39m, \u001b[38;5;124m'\u001b[39m\u001b[38;5;124mLogFormatter\u001b[39m\u001b[38;5;124m'\u001b[39m,\n\u001b[1;32m   (...)\u001b[0m\n\u001b[0;32m    156\u001b[0m            \u001b[38;5;124m'\u001b[39m\u001b[38;5;124mMultipleLocator\u001b[39m\u001b[38;5;124m'\u001b[39m, \u001b[38;5;124m'\u001b[39m\u001b[38;5;124mMaxNLocator\u001b[39m\u001b[38;5;124m'\u001b[39m, \u001b[38;5;124m'\u001b[39m\u001b[38;5;124mAutoMinorLocator\u001b[39m\u001b[38;5;124m'\u001b[39m,\n\u001b[0;32m    157\u001b[0m            \u001b[38;5;124m'\u001b[39m\u001b[38;5;124mSymmetricalLogLocator\u001b[39m\u001b[38;5;124m'\u001b[39m, \u001b[38;5;124m'\u001b[39m\u001b[38;5;124mAsinhLocator\u001b[39m\u001b[38;5;124m'\u001b[39m, \u001b[38;5;124m'\u001b[39m\u001b[38;5;124mLogitLocator\u001b[39m\u001b[38;5;124m'\u001b[39m)\n",
      "File \u001b[1;32m~\\anaconda3\\Lib\\site-packages\\matplotlib\\transforms.py:49\u001b[0m\n\u001b[0;32m     46\u001b[0m \u001b[38;5;28;01mfrom\u001b[39;00m\u001b[38;5;250m \u001b[39m\u001b[38;5;21;01mnumpy\u001b[39;00m\u001b[38;5;21;01m.\u001b[39;00m\u001b[38;5;21;01mlinalg\u001b[39;00m\u001b[38;5;250m \u001b[39m\u001b[38;5;28;01mimport\u001b[39;00m inv\n\u001b[0;32m     48\u001b[0m \u001b[38;5;28;01mfrom\u001b[39;00m\u001b[38;5;250m \u001b[39m\u001b[38;5;21;01mmatplotlib\u001b[39;00m\u001b[38;5;250m \u001b[39m\u001b[38;5;28;01mimport\u001b[39;00m _api\n\u001b[1;32m---> 49\u001b[0m \u001b[38;5;28;01mfrom\u001b[39;00m\u001b[38;5;250m \u001b[39m\u001b[38;5;21;01mmatplotlib\u001b[39;00m\u001b[38;5;21;01m.\u001b[39;00m\u001b[38;5;21;01m_path\u001b[39;00m\u001b[38;5;250m \u001b[39m\u001b[38;5;28;01mimport\u001b[39;00m (\n\u001b[0;32m     50\u001b[0m     affine_transform, count_bboxes_overlapping_bbox, update_path_extents)\n\u001b[0;32m     51\u001b[0m \u001b[38;5;28;01mfrom\u001b[39;00m\u001b[38;5;250m \u001b[39m\u001b[38;5;21;01m.\u001b[39;00m\u001b[38;5;21;01mpath\u001b[39;00m\u001b[38;5;250m \u001b[39m\u001b[38;5;28;01mimport\u001b[39;00m Path\n\u001b[0;32m     53\u001b[0m DEBUG \u001b[38;5;241m=\u001b[39m \u001b[38;5;28;01mFalse\u001b[39;00m\n",
      "\u001b[1;31mImportError\u001b[0m: initialization failed"
     ]
    },
    {
     "data": {
      "text/plain": [
       "<plotnine.ggplot.ggplot at 0x1c5ba8cf170>"
      ]
     },
     "execution_count": 70,
     "metadata": {},
     "output_type": "execute_result"
    }
   ],
   "source": [
    "from plotnine import ggplot, aes, geom_line, facet_wrap, labs, theme_minimal\n",
    "import numpy as np\n",
    "\n",
    "# Set random seed for reproducibility\n",
    "np.random.seed(42)\n",
    "\n",
    "# Get unique storm names\n",
    "storm_names = long_df['name'].unique()\n",
    "\n",
    "# Pick four random storms\n",
    "selected_storms = np.random.choice(storm_names, 4, replace=False)\n",
    "\n",
    "# Subset the data to those four storms\n",
    "plot_df = long_df[long_df['name'].isin(selected_storms)].copy()\n",
    "\n",
    "# Build the line plot with 2x2 faceting\n",
    "plot = (\n",
    "    ggplot(plot_df, aes(x='period', y='diameter',\n",
    "                        color='diameter_type',\n",
    "                        group='diameter_type')) + \n",
    "    geom_line() +\n",
    "    facet_wrap('~name', ncol=2) +  # 2x2 grid for faceting\n",
    "    labs(\n",
    "        x='Observation Period',\n",
    "        y='Diameter (nautical miles)',\n",
    "        color='Diameter Type',\n",
    "        title='Tropical Storm vs Hurricane Force Diameters\\nOver Observation Period for Four Random Storms'\n",
    "    ) +\n",
    "    theme_minimal()\n",
    ")\n",
    "\n",
    "plot\n"
   ]
  },
  {
   "cell_type": "code",
   "execution_count": null,
   "id": "6a33c42a-8011-4801-a658-56a767d029a9",
   "metadata": {},
   "outputs": [],
   "source": []
  }
 ],
 "metadata": {
  "kernelspec": {
   "display_name": "Python 3 (ipykernel)",
   "language": "python",
   "name": "python3"
  },
  "language_info": {
   "codemirror_mode": {
    "name": "ipython",
    "version": 3
   },
   "file_extension": ".py",
   "mimetype": "text/x-python",
   "name": "python",
   "nbconvert_exporter": "python",
   "pygments_lexer": "ipython3",
   "version": "3.12.7"
  }
 },
 "nbformat": 4,
 "nbformat_minor": 5
}
